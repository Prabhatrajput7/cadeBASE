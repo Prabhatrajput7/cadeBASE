{
 "cells": [
  {
   "cell_type": "code",
   "execution_count": 1,
   "id": "1f4196ca",
   "metadata": {},
   "outputs": [],
   "source": [
    "# data_range\n",
    "# timestamp\n",
    "# to_datetime"
   ]
  },
  {
   "cell_type": "code",
   "execution_count": 2,
   "id": "bbf77df1",
   "metadata": {},
   "outputs": [],
   "source": [
    "import pandas as pd\n",
    "import datetime as dt"
   ]
  },
  {
   "cell_type": "code",
   "execution_count": 3,
   "id": "79e1bd56",
   "metadata": {},
   "outputs": [
    {
     "data": {
      "text/plain": [
       "Timestamp('2020-04-12 00:00:00')"
      ]
     },
     "execution_count": 3,
     "metadata": {},
     "output_type": "execute_result"
    }
   ],
   "source": [
    "aa = pd.Timestamp(2020,4,12)\n",
    "aa.day_name()\n",
    "aa"
   ]
  },
  {
   "cell_type": "code",
   "execution_count": 4,
   "id": "9fd70b34",
   "metadata": {},
   "outputs": [
    {
     "data": {
      "text/plain": [
       "['MAXYEAR',\n",
       " 'MINYEAR',\n",
       " '__all__',\n",
       " '__builtins__',\n",
       " '__cached__',\n",
       " '__doc__',\n",
       " '__file__',\n",
       " '__loader__',\n",
       " '__name__',\n",
       " '__package__',\n",
       " '__spec__',\n",
       " 'date',\n",
       " 'datetime',\n",
       " 'datetime_CAPI',\n",
       " 'sys',\n",
       " 'time',\n",
       " 'timedelta',\n",
       " 'timezone',\n",
       " 'tzinfo']"
      ]
     },
     "execution_count": 4,
     "metadata": {},
     "output_type": "execute_result"
    }
   ],
   "source": [
    "dir(dt)"
   ]
  },
  {
   "cell_type": "code",
   "execution_count": 15,
   "id": "98943bc8",
   "metadata": {},
   "outputs": [
    {
     "data": {
      "text/plain": [
       "['__add__',\n",
       " '__class__',\n",
       " '__delattr__',\n",
       " '__dir__',\n",
       " '__doc__',\n",
       " '__eq__',\n",
       " '__format__',\n",
       " '__ge__',\n",
       " '__getattribute__',\n",
       " '__gt__',\n",
       " '__hash__',\n",
       " '__init__',\n",
       " '__init_subclass__',\n",
       " '__le__',\n",
       " '__lt__',\n",
       " '__ne__',\n",
       " '__new__',\n",
       " '__radd__',\n",
       " '__reduce__',\n",
       " '__reduce_ex__',\n",
       " '__repr__',\n",
       " '__rsub__',\n",
       " '__setattr__',\n",
       " '__sizeof__',\n",
       " '__str__',\n",
       " '__sub__',\n",
       " '__subclasshook__',\n",
       " 'ctime',\n",
       " 'day',\n",
       " 'fromisocalendar',\n",
       " 'fromisoformat',\n",
       " 'fromordinal',\n",
       " 'fromtimestamp',\n",
       " 'isocalendar',\n",
       " 'isoformat',\n",
       " 'isoweekday',\n",
       " 'max',\n",
       " 'min',\n",
       " 'month',\n",
       " 'replace',\n",
       " 'resolution',\n",
       " 'strftime',\n",
       " 'timetuple',\n",
       " 'today',\n",
       " 'toordinal',\n",
       " 'weekday',\n",
       " 'year']"
      ]
     },
     "execution_count": 15,
     "metadata": {},
     "output_type": "execute_result"
    }
   ],
   "source": [
    "some = dt.date(2020,4,12)\n",
    "dir(some)"
   ]
  },
  {
   "cell_type": "code",
   "execution_count": 12,
   "id": "8bdc6f3a",
   "metadata": {},
   "outputs": [
    {
     "data": {
      "text/plain": [
       "12"
      ]
     },
     "execution_count": 12,
     "metadata": {},
     "output_type": "execute_result"
    }
   ],
   "source": [
    "some.day"
   ]
  },
  {
   "cell_type": "code",
   "execution_count": 15,
   "id": "812346de",
   "metadata": {},
   "outputs": [
    {
     "data": {
      "text/plain": [
       "datetime.datetime(2020, 4, 12, 0, 0)"
      ]
     },
     "execution_count": 15,
     "metadata": {},
     "output_type": "execute_result"
    }
   ],
   "source": [
    "ti = dt.datetime(2020,4,12)#24 time format#if time is not provide deafault is mid night 0:0:0\n",
    "ti"
   ]
  },
  {
   "cell_type": "code",
   "execution_count": 16,
   "id": "4f6e0815",
   "metadata": {},
   "outputs": [
    {
     "data": {
      "text/plain": [
       "'2020-04-12 00:00:00'"
      ]
     },
     "execution_count": 16,
     "metadata": {},
     "output_type": "execute_result"
    }
   ],
   "source": [
    "str(ti)"
   ]
  },
  {
   "cell_type": "code",
   "execution_count": 17,
   "id": "4b7ac95a",
   "metadata": {},
   "outputs": [
    {
     "data": {
      "text/plain": [
       "0"
      ]
     },
     "execution_count": 17,
     "metadata": {},
     "output_type": "execute_result"
    }
   ],
   "source": [
    "ti.second"
   ]
  },
  {
   "cell_type": "code",
   "execution_count": 18,
   "id": "3640d94b",
   "metadata": {},
   "outputs": [],
   "source": [
    "#pandas time"
   ]
  },
  {
   "cell_type": "code",
   "execution_count": 19,
   "id": "0b0b5f75",
   "metadata": {},
   "outputs": [
    {
     "data": {
      "text/plain": [
       "Timestamp('2012-04-01 00:00:00')"
      ]
     },
     "execution_count": 19,
     "metadata": {},
     "output_type": "execute_result"
    }
   ],
   "source": [
    "pd.Timestamp('2012-04-1')#yyyy or mm"
   ]
  },
  {
   "cell_type": "code",
   "execution_count": 20,
   "id": "554a07b2",
   "metadata": {},
   "outputs": [
    {
     "data": {
      "text/plain": [
       "Timestamp('2020-04-12 18:00:00')"
      ]
     },
     "execution_count": 20,
     "metadata": {},
     "output_type": "execute_result"
    }
   ],
   "source": [
    "pd.Timestamp('2020-4-12 6:00 pm')"
   ]
  },
  {
   "cell_type": "code",
   "execution_count": 21,
   "id": "6006b607",
   "metadata": {},
   "outputs": [
    {
     "data": {
      "text/plain": [
       "Timestamp('2020-04-02 00:00:00')"
      ]
     },
     "execution_count": 21,
     "metadata": {},
     "output_type": "execute_result"
    }
   ],
   "source": [
    "pd.Timestamp(dt.date(2020,4,2))"
   ]
  },
  {
   "cell_type": "code",
   "execution_count": 23,
   "id": "4183b9d0",
   "metadata": {},
   "outputs": [
    {
     "data": {
      "text/plain": [
       "DatetimeIndex(['2012-01-01', '2013-01-01', '2015-01-10'], dtype='datetime64[ns]', freq=None)"
      ]
     },
     "execution_count": 23,
     "metadata": {},
     "output_type": "execute_result"
    }
   ],
   "source": [
    "# date time index '-' is default\n",
    "dates = ['2012/01/01','2013-01-01','2015-01-10']\n",
    "pd.DatetimeIndex(dates)"
   ]
  },
  {
   "cell_type": "code",
   "execution_count": 24,
   "id": "b9a1731c",
   "metadata": {},
   "outputs": [
    {
     "data": {
      "text/plain": [
       "2004-04-02    100\n",
       "2020-04-02    200\n",
       "2022-04-02    300\n",
       "dtype: int64"
      ]
     },
     "execution_count": 24,
     "metadata": {},
     "output_type": "execute_result"
    }
   ],
   "source": [
    "da = [dt.date(2004,4,2),dt.date(2020,4,2),dt.date(2022,4,2)]\n",
    "daa = [100,200,300]\n",
    "s = pd.Series(daa,da)\n",
    "s"
   ]
  },
  {
   "cell_type": "code",
   "execution_count": 7,
   "id": "c268a5a8",
   "metadata": {},
   "outputs": [
    {
     "data": {
      "text/plain": [
       "Timestamp('2020-10-12 18:00:00')"
      ]
     },
     "execution_count": 7,
     "metadata": {},
     "output_type": "execute_result"
    }
   ],
   "source": [
    "pd.to_datetime('2020-4-12 6:00 pm')\n",
    "pd.Timestamp('2020-october-12 6:00 pm')"
   ]
  },
  {
   "cell_type": "code",
   "execution_count": 26,
   "id": "0174b86a",
   "metadata": {},
   "outputs": [
    {
     "data": {
      "text/plain": [
       "Timestamp('2020-10-12 18:00:00')"
      ]
     },
     "execution_count": 26,
     "metadata": {},
     "output_type": "execute_result"
    }
   ],
   "source": [
    "pd.to_datetime('2020-october-12 6:00 pm')"
   ]
  },
  {
   "cell_type": "code",
   "execution_count": 22,
   "id": "8842afa5",
   "metadata": {},
   "outputs": [],
   "source": [
    "s1 = pd.Series(['2020-october-12','2016'])"
   ]
  },
  {
   "cell_type": "code",
   "execution_count": 23,
   "id": "43a98192",
   "metadata": {},
   "outputs": [
    {
     "data": {
      "text/plain": [
       "0    2020-october-12\n",
       "1               2016\n",
       "dtype: object"
      ]
     },
     "execution_count": 23,
     "metadata": {},
     "output_type": "execute_result"
    }
   ],
   "source": [
    "s1"
   ]
  },
  {
   "cell_type": "code",
   "execution_count": 25,
   "id": "b61a4f36",
   "metadata": {},
   "outputs": [
    {
     "data": {
      "text/plain": [
       "0   2020-10-12\n",
       "1   2016-01-01\n",
       "dtype: datetime64[ns]"
      ]
     },
     "execution_count": 25,
     "metadata": {},
     "output_type": "execute_result"
    }
   ],
   "source": [
    "pd.to_datetime(s1)"
   ]
  },
  {
   "cell_type": "code",
   "execution_count": 35,
   "id": "94898a36",
   "metadata": {},
   "outputs": [
    {
     "data": {
      "text/plain": [
       "0    2020-october-12\n",
       "1               2016\n",
       "2                hey\n",
       "3         2002-02-31\n",
       "dtype: object"
      ]
     },
     "execution_count": 35,
     "metadata": {},
     "output_type": "execute_result"
    }
   ],
   "source": [
    "s2 = pd.Series(['2020-october-12','2016','hey','2002-02-31'])\n",
    "s2"
   ]
  },
  {
   "cell_type": "code",
   "execution_count": 36,
   "id": "55050d1c",
   "metadata": {},
   "outputs": [
    {
     "ename": "ParserError",
     "evalue": "Unknown string format: hey",
     "output_type": "error",
     "traceback": [
      "\u001b[1;31m---------------------------------------------------------------------------\u001b[0m",
      "\u001b[1;31mTypeError\u001b[0m                                 Traceback (most recent call last)",
      "\u001b[1;32m~\\MLDS\\env\\lib\\site-packages\\pandas\\core\\arrays\\datetimes.py\u001b[0m in \u001b[0;36mobjects_to_datetime64ns\u001b[1;34m(data, dayfirst, yearfirst, utc, errors, require_iso8601, allow_object, allow_mixed)\u001b[0m\n\u001b[0;32m   2186\u001b[0m         \u001b[1;32mtry\u001b[0m\u001b[1;33m:\u001b[0m\u001b[1;33m\u001b[0m\u001b[1;33m\u001b[0m\u001b[0m\n\u001b[1;32m-> 2187\u001b[1;33m             \u001b[0mvalues\u001b[0m\u001b[1;33m,\u001b[0m \u001b[0mtz_parsed\u001b[0m \u001b[1;33m=\u001b[0m \u001b[0mconversion\u001b[0m\u001b[1;33m.\u001b[0m\u001b[0mdatetime_to_datetime64\u001b[0m\u001b[1;33m(\u001b[0m\u001b[0mdata\u001b[0m\u001b[1;33m.\u001b[0m\u001b[0mravel\u001b[0m\u001b[1;33m(\u001b[0m\u001b[1;34m\"K\"\u001b[0m\u001b[1;33m)\u001b[0m\u001b[1;33m)\u001b[0m\u001b[1;33m\u001b[0m\u001b[1;33m\u001b[0m\u001b[0m\n\u001b[0m\u001b[0;32m   2188\u001b[0m             \u001b[1;31m# If tzaware, these values represent unix timestamps, so we\u001b[0m\u001b[1;33m\u001b[0m\u001b[1;33m\u001b[0m\u001b[0m\n",
      "\u001b[1;32m~\\MLDS\\env\\lib\\site-packages\\pandas\\_libs\\tslibs\\conversion.pyx\u001b[0m in \u001b[0;36mpandas._libs.tslibs.conversion.datetime_to_datetime64\u001b[1;34m()\u001b[0m\n",
      "\u001b[1;31mTypeError\u001b[0m: Unrecognized value type: <class 'str'>",
      "\nDuring handling of the above exception, another exception occurred:\n",
      "\u001b[1;31mParserError\u001b[0m                               Traceback (most recent call last)",
      "\u001b[1;32m~\\AppData\\Local\\Temp/ipykernel_26900/423824953.py\u001b[0m in \u001b[0;36m<module>\u001b[1;34m\u001b[0m\n\u001b[1;32m----> 1\u001b[1;33m \u001b[0mpd\u001b[0m\u001b[1;33m.\u001b[0m\u001b[0mto_datetime\u001b[0m\u001b[1;33m(\u001b[0m\u001b[0ms2\u001b[0m\u001b[1;33m)\u001b[0m\u001b[1;33m\u001b[0m\u001b[1;33m\u001b[0m\u001b[0m\n\u001b[0m",
      "\u001b[1;32m~\\MLDS\\env\\lib\\site-packages\\pandas\\core\\tools\\datetimes.py\u001b[0m in \u001b[0;36mto_datetime\u001b[1;34m(arg, errors, dayfirst, yearfirst, utc, format, exact, unit, infer_datetime_format, origin, cache)\u001b[0m\n\u001b[0;32m    885\u001b[0m             \u001b[0mresult\u001b[0m \u001b[1;33m=\u001b[0m \u001b[0marg\u001b[0m\u001b[1;33m.\u001b[0m\u001b[0mmap\u001b[0m\u001b[1;33m(\u001b[0m\u001b[0mcache_array\u001b[0m\u001b[1;33m)\u001b[0m\u001b[1;33m\u001b[0m\u001b[1;33m\u001b[0m\u001b[0m\n\u001b[0;32m    886\u001b[0m         \u001b[1;32melse\u001b[0m\u001b[1;33m:\u001b[0m\u001b[1;33m\u001b[0m\u001b[1;33m\u001b[0m\u001b[0m\n\u001b[1;32m--> 887\u001b[1;33m             \u001b[0mvalues\u001b[0m \u001b[1;33m=\u001b[0m \u001b[0mconvert_listlike\u001b[0m\u001b[1;33m(\u001b[0m\u001b[0marg\u001b[0m\u001b[1;33m.\u001b[0m\u001b[0m_values\u001b[0m\u001b[1;33m,\u001b[0m \u001b[0mformat\u001b[0m\u001b[1;33m)\u001b[0m\u001b[1;33m\u001b[0m\u001b[1;33m\u001b[0m\u001b[0m\n\u001b[0m\u001b[0;32m    888\u001b[0m             \u001b[0mresult\u001b[0m \u001b[1;33m=\u001b[0m \u001b[0marg\u001b[0m\u001b[1;33m.\u001b[0m\u001b[0m_constructor\u001b[0m\u001b[1;33m(\u001b[0m\u001b[0mvalues\u001b[0m\u001b[1;33m,\u001b[0m \u001b[0mindex\u001b[0m\u001b[1;33m=\u001b[0m\u001b[0marg\u001b[0m\u001b[1;33m.\u001b[0m\u001b[0mindex\u001b[0m\u001b[1;33m,\u001b[0m \u001b[0mname\u001b[0m\u001b[1;33m=\u001b[0m\u001b[0marg\u001b[0m\u001b[1;33m.\u001b[0m\u001b[0mname\u001b[0m\u001b[1;33m)\u001b[0m\u001b[1;33m\u001b[0m\u001b[1;33m\u001b[0m\u001b[0m\n\u001b[0;32m    889\u001b[0m     \u001b[1;32melif\u001b[0m \u001b[0misinstance\u001b[0m\u001b[1;33m(\u001b[0m\u001b[0marg\u001b[0m\u001b[1;33m,\u001b[0m \u001b[1;33m(\u001b[0m\u001b[0mABCDataFrame\u001b[0m\u001b[1;33m,\u001b[0m \u001b[0mabc\u001b[0m\u001b[1;33m.\u001b[0m\u001b[0mMutableMapping\u001b[0m\u001b[1;33m)\u001b[0m\u001b[1;33m)\u001b[0m\u001b[1;33m:\u001b[0m\u001b[1;33m\u001b[0m\u001b[1;33m\u001b[0m\u001b[0m\n",
      "\u001b[1;32m~\\MLDS\\env\\lib\\site-packages\\pandas\\core\\tools\\datetimes.py\u001b[0m in \u001b[0;36m_convert_listlike_datetimes\u001b[1;34m(arg, format, name, tz, unit, errors, infer_datetime_format, dayfirst, yearfirst, exact)\u001b[0m\n\u001b[0;32m    399\u001b[0m     \u001b[1;32massert\u001b[0m \u001b[0mformat\u001b[0m \u001b[1;32mis\u001b[0m \u001b[1;32mNone\u001b[0m \u001b[1;32mor\u001b[0m \u001b[0minfer_datetime_format\u001b[0m\u001b[1;33m\u001b[0m\u001b[1;33m\u001b[0m\u001b[0m\n\u001b[0;32m    400\u001b[0m     \u001b[0mutc\u001b[0m \u001b[1;33m=\u001b[0m \u001b[0mtz\u001b[0m \u001b[1;33m==\u001b[0m \u001b[1;34m\"utc\"\u001b[0m\u001b[1;33m\u001b[0m\u001b[1;33m\u001b[0m\u001b[0m\n\u001b[1;32m--> 401\u001b[1;33m     result, tz_parsed = objects_to_datetime64ns(\n\u001b[0m\u001b[0;32m    402\u001b[0m         \u001b[0marg\u001b[0m\u001b[1;33m,\u001b[0m\u001b[1;33m\u001b[0m\u001b[1;33m\u001b[0m\u001b[0m\n\u001b[0;32m    403\u001b[0m         \u001b[0mdayfirst\u001b[0m\u001b[1;33m=\u001b[0m\u001b[0mdayfirst\u001b[0m\u001b[1;33m,\u001b[0m\u001b[1;33m\u001b[0m\u001b[1;33m\u001b[0m\u001b[0m\n",
      "\u001b[1;32m~\\MLDS\\env\\lib\\site-packages\\pandas\\core\\arrays\\datetimes.py\u001b[0m in \u001b[0;36mobjects_to_datetime64ns\u001b[1;34m(data, dayfirst, yearfirst, utc, errors, require_iso8601, allow_object, allow_mixed)\u001b[0m\n\u001b[0;32m   2191\u001b[0m             \u001b[1;32mreturn\u001b[0m \u001b[0mvalues\u001b[0m\u001b[1;33m.\u001b[0m\u001b[0mview\u001b[0m\u001b[1;33m(\u001b[0m\u001b[1;34m\"i8\"\u001b[0m\u001b[1;33m)\u001b[0m\u001b[1;33m,\u001b[0m \u001b[0mtz_parsed\u001b[0m\u001b[1;33m\u001b[0m\u001b[1;33m\u001b[0m\u001b[0m\n\u001b[0;32m   2192\u001b[0m         \u001b[1;32mexcept\u001b[0m \u001b[1;33m(\u001b[0m\u001b[0mValueError\u001b[0m\u001b[1;33m,\u001b[0m \u001b[0mTypeError\u001b[0m\u001b[1;33m)\u001b[0m\u001b[1;33m:\u001b[0m\u001b[1;33m\u001b[0m\u001b[1;33m\u001b[0m\u001b[0m\n\u001b[1;32m-> 2193\u001b[1;33m             \u001b[1;32mraise\u001b[0m \u001b[0merr\u001b[0m\u001b[1;33m\u001b[0m\u001b[1;33m\u001b[0m\u001b[0m\n\u001b[0m\u001b[0;32m   2194\u001b[0m \u001b[1;33m\u001b[0m\u001b[0m\n\u001b[0;32m   2195\u001b[0m     \u001b[1;32mif\u001b[0m \u001b[0mtz_parsed\u001b[0m \u001b[1;32mis\u001b[0m \u001b[1;32mnot\u001b[0m \u001b[1;32mNone\u001b[0m\u001b[1;33m:\u001b[0m\u001b[1;33m\u001b[0m\u001b[1;33m\u001b[0m\u001b[0m\n",
      "\u001b[1;32m~\\MLDS\\env\\lib\\site-packages\\pandas\\core\\arrays\\datetimes.py\u001b[0m in \u001b[0;36mobjects_to_datetime64ns\u001b[1;34m(data, dayfirst, yearfirst, utc, errors, require_iso8601, allow_object, allow_mixed)\u001b[0m\n\u001b[0;32m   2173\u001b[0m     \u001b[0morder\u001b[0m\u001b[1;33m:\u001b[0m \u001b[0mLiteral\u001b[0m\u001b[1;33m[\u001b[0m\u001b[1;34m\"F\"\u001b[0m\u001b[1;33m,\u001b[0m \u001b[1;34m\"C\"\u001b[0m\u001b[1;33m]\u001b[0m \u001b[1;33m=\u001b[0m \u001b[1;34m\"F\"\u001b[0m \u001b[1;32mif\u001b[0m \u001b[0mflags\u001b[0m\u001b[1;33m.\u001b[0m\u001b[0mf_contiguous\u001b[0m \u001b[1;32melse\u001b[0m \u001b[1;34m\"C\"\u001b[0m\u001b[1;33m\u001b[0m\u001b[1;33m\u001b[0m\u001b[0m\n\u001b[0;32m   2174\u001b[0m     \u001b[1;32mtry\u001b[0m\u001b[1;33m:\u001b[0m\u001b[1;33m\u001b[0m\u001b[1;33m\u001b[0m\u001b[0m\n\u001b[1;32m-> 2175\u001b[1;33m         result, tz_parsed = tslib.array_to_datetime(\n\u001b[0m\u001b[0;32m   2176\u001b[0m             \u001b[0mdata\u001b[0m\u001b[1;33m.\u001b[0m\u001b[0mravel\u001b[0m\u001b[1;33m(\u001b[0m\u001b[1;34m\"K\"\u001b[0m\u001b[1;33m)\u001b[0m\u001b[1;33m,\u001b[0m\u001b[1;33m\u001b[0m\u001b[1;33m\u001b[0m\u001b[0m\n\u001b[0;32m   2177\u001b[0m             \u001b[0merrors\u001b[0m\u001b[1;33m=\u001b[0m\u001b[0merrors\u001b[0m\u001b[1;33m,\u001b[0m\u001b[1;33m\u001b[0m\u001b[1;33m\u001b[0m\u001b[0m\n",
      "\u001b[1;32m~\\MLDS\\env\\lib\\site-packages\\pandas\\_libs\\tslib.pyx\u001b[0m in \u001b[0;36mpandas._libs.tslib.array_to_datetime\u001b[1;34m()\u001b[0m\n",
      "\u001b[1;32m~\\MLDS\\env\\lib\\site-packages\\pandas\\_libs\\tslib.pyx\u001b[0m in \u001b[0;36mpandas._libs.tslib.array_to_datetime\u001b[1;34m()\u001b[0m\n",
      "\u001b[1;32m~\\MLDS\\env\\lib\\site-packages\\pandas\\_libs\\tslib.pyx\u001b[0m in \u001b[0;36mpandas._libs.tslib._array_to_datetime_object\u001b[1;34m()\u001b[0m\n",
      "\u001b[1;32m~\\MLDS\\env\\lib\\site-packages\\pandas\\_libs\\tslib.pyx\u001b[0m in \u001b[0;36mpandas._libs.tslib._array_to_datetime_object\u001b[1;34m()\u001b[0m\n",
      "\u001b[1;32m~\\MLDS\\env\\lib\\site-packages\\pandas\\_libs\\tslibs\\parsing.pyx\u001b[0m in \u001b[0;36mpandas._libs.tslibs.parsing.parse_datetime_string\u001b[1;34m()\u001b[0m\n",
      "\u001b[1;32m~\\MLDS\\env\\lib\\site-packages\\dateutil\\parser\\_parser.py\u001b[0m in \u001b[0;36mparse\u001b[1;34m(timestr, parserinfo, **kwargs)\u001b[0m\n\u001b[0;32m   1366\u001b[0m         \u001b[1;32mreturn\u001b[0m \u001b[0mparser\u001b[0m\u001b[1;33m(\u001b[0m\u001b[0mparserinfo\u001b[0m\u001b[1;33m)\u001b[0m\u001b[1;33m.\u001b[0m\u001b[0mparse\u001b[0m\u001b[1;33m(\u001b[0m\u001b[0mtimestr\u001b[0m\u001b[1;33m,\u001b[0m \u001b[1;33m**\u001b[0m\u001b[0mkwargs\u001b[0m\u001b[1;33m)\u001b[0m\u001b[1;33m\u001b[0m\u001b[1;33m\u001b[0m\u001b[0m\n\u001b[0;32m   1367\u001b[0m     \u001b[1;32melse\u001b[0m\u001b[1;33m:\u001b[0m\u001b[1;33m\u001b[0m\u001b[1;33m\u001b[0m\u001b[0m\n\u001b[1;32m-> 1368\u001b[1;33m         \u001b[1;32mreturn\u001b[0m \u001b[0mDEFAULTPARSER\u001b[0m\u001b[1;33m.\u001b[0m\u001b[0mparse\u001b[0m\u001b[1;33m(\u001b[0m\u001b[0mtimestr\u001b[0m\u001b[1;33m,\u001b[0m \u001b[1;33m**\u001b[0m\u001b[0mkwargs\u001b[0m\u001b[1;33m)\u001b[0m\u001b[1;33m\u001b[0m\u001b[1;33m\u001b[0m\u001b[0m\n\u001b[0m\u001b[0;32m   1369\u001b[0m \u001b[1;33m\u001b[0m\u001b[0m\n\u001b[0;32m   1370\u001b[0m \u001b[1;33m\u001b[0m\u001b[0m\n",
      "\u001b[1;32m~\\MLDS\\env\\lib\\site-packages\\dateutil\\parser\\_parser.py\u001b[0m in \u001b[0;36mparse\u001b[1;34m(self, timestr, default, ignoretz, tzinfos, **kwargs)\u001b[0m\n\u001b[0;32m    641\u001b[0m \u001b[1;33m\u001b[0m\u001b[0m\n\u001b[0;32m    642\u001b[0m         \u001b[1;32mif\u001b[0m \u001b[0mres\u001b[0m \u001b[1;32mis\u001b[0m \u001b[1;32mNone\u001b[0m\u001b[1;33m:\u001b[0m\u001b[1;33m\u001b[0m\u001b[1;33m\u001b[0m\u001b[0m\n\u001b[1;32m--> 643\u001b[1;33m             \u001b[1;32mraise\u001b[0m \u001b[0mParserError\u001b[0m\u001b[1;33m(\u001b[0m\u001b[1;34m\"Unknown string format: %s\"\u001b[0m\u001b[1;33m,\u001b[0m \u001b[0mtimestr\u001b[0m\u001b[1;33m)\u001b[0m\u001b[1;33m\u001b[0m\u001b[1;33m\u001b[0m\u001b[0m\n\u001b[0m\u001b[0;32m    644\u001b[0m \u001b[1;33m\u001b[0m\u001b[0m\n\u001b[0;32m    645\u001b[0m         \u001b[1;32mif\u001b[0m \u001b[0mlen\u001b[0m\u001b[1;33m(\u001b[0m\u001b[0mres\u001b[0m\u001b[1;33m)\u001b[0m \u001b[1;33m==\u001b[0m \u001b[1;36m0\u001b[0m\u001b[1;33m:\u001b[0m\u001b[1;33m\u001b[0m\u001b[1;33m\u001b[0m\u001b[0m\n",
      "\u001b[1;31mParserError\u001b[0m: Unknown string format: hey"
     ]
    }
   ],
   "source": [
    "pd.to_datetime(s2)"
   ]
  },
  {
   "cell_type": "code",
   "execution_count": 37,
   "id": "12213bfe",
   "metadata": {},
   "outputs": [
    {
     "data": {
      "text/plain": [
       "0   2020-10-12\n",
       "1   2016-01-01\n",
       "2          NaT\n",
       "3          NaT\n",
       "dtype: datetime64[ns]"
      ]
     },
     "execution_count": 37,
     "metadata": {},
     "output_type": "execute_result"
    }
   ],
   "source": [
    "pd.to_datetime(s2,errors='coerce')"
   ]
  },
  {
   "cell_type": "code",
   "execution_count": 38,
   "id": "233a5856",
   "metadata": {},
   "outputs": [
    {
     "data": {
      "text/plain": [
       "Timestamp('2012-10-08 18:15:05')"
      ]
     },
     "execution_count": 38,
     "metadata": {},
     "output_type": "execute_result"
    }
   ],
   "source": [
    "pd.to_datetime(1349720105,unit='s')"
   ]
  },
  {
   "cell_type": "code",
   "execution_count": 39,
   "id": "1aec62fc",
   "metadata": {},
   "outputs": [],
   "source": [
    "#date range"
   ]
  },
  {
   "cell_type": "code",
   "execution_count": 34,
   "id": "2f77bd4c",
   "metadata": {},
   "outputs": [
    {
     "data": {
      "text/plain": [
       "DatetimeIndex(['2021-01-01', '2021-01-03', '2021-01-05', '2021-01-07',\n",
       "               '2021-01-09'],\n",
       "              dtype='datetime64[ns]', freq='2D')"
      ]
     },
     "execution_count": 34,
     "metadata": {},
     "output_type": "execute_result"
    }
   ],
   "source": [
    "t = pd.date_range(start='2021-01-01', end='2021-01-10', freq='2D')\n",
    "t#required 2 parameters no giving end date < strt date it will retuen empty list"
   ]
  },
  {
   "cell_type": "code",
   "execution_count": 38,
   "id": "19983342",
   "metadata": {},
   "outputs": [
    {
     "data": {
      "text/html": [
       "<div>\n",
       "<style scoped>\n",
       "    .dataframe tbody tr th:only-of-type {\n",
       "        vertical-align: middle;\n",
       "    }\n",
       "\n",
       "    .dataframe tbody tr th {\n",
       "        vertical-align: top;\n",
       "    }\n",
       "\n",
       "    .dataframe thead th {\n",
       "        text-align: right;\n",
       "    }\n",
       "</style>\n",
       "<table border=\"1\" class=\"dataframe\">\n",
       "  <thead>\n",
       "    <tr style=\"text-align: right;\">\n",
       "      <th></th>\n",
       "      <th>array</th>\n",
       "      <th>array2</th>\n",
       "      <th>time</th>\n",
       "    </tr>\n",
       "  </thead>\n",
       "  <tbody>\n",
       "    <tr>\n",
       "      <th>0</th>\n",
       "      <td>0</td>\n",
       "      <td>2.00</td>\n",
       "      <td>2021-01-01</td>\n",
       "    </tr>\n",
       "    <tr>\n",
       "      <th>1</th>\n",
       "      <td>2</td>\n",
       "      <td>2.75</td>\n",
       "      <td>2021-01-03</td>\n",
       "    </tr>\n",
       "    <tr>\n",
       "      <th>2</th>\n",
       "      <td>4</td>\n",
       "      <td>3.50</td>\n",
       "      <td>2021-01-05</td>\n",
       "    </tr>\n",
       "    <tr>\n",
       "      <th>3</th>\n",
       "      <td>6</td>\n",
       "      <td>4.25</td>\n",
       "      <td>2021-01-07</td>\n",
       "    </tr>\n",
       "    <tr>\n",
       "      <th>4</th>\n",
       "      <td>8</td>\n",
       "      <td>5.00</td>\n",
       "      <td>2021-01-09</td>\n",
       "    </tr>\n",
       "  </tbody>\n",
       "</table>\n",
       "</div>"
      ],
      "text/plain": [
       "   array  array2       time\n",
       "0      0    2.00 2021-01-01\n",
       "1      2    2.75 2021-01-03\n",
       "2      4    3.50 2021-01-05\n",
       "3      6    4.25 2021-01-07\n",
       "4      8    5.00 2021-01-09"
      ]
     },
     "execution_count": 38,
     "metadata": {},
     "output_type": "execute_result"
    }
   ],
   "source": [
    "import numpy as np\n",
    "df = pd.DataFrame({'array':np.arange(0,10,2),'array2':np.linspace(2,5,5)})\n",
    "df['time']= pd.date_range(start='2021-01-01', end='2021-01-10', freq='2D')\n",
    "df"
   ]
  },
  {
   "cell_type": "code",
   "execution_count": null,
   "id": "5cbdef36",
   "metadata": {},
   "outputs": [],
   "source": []
  },
  {
   "cell_type": "code",
   "execution_count": 46,
   "id": "9c4bf1b6",
   "metadata": {},
   "outputs": [
    {
     "data": {
      "text/plain": [
       "Timestamp('2021-01-01 00:00:00', freq='D')"
      ]
     },
     "execution_count": 46,
     "metadata": {},
     "output_type": "execute_result"
    }
   ],
   "source": [
    "t[0]"
   ]
  },
  {
   "cell_type": "code",
   "execution_count": 47,
   "id": "d56b5b4f",
   "metadata": {},
   "outputs": [
    {
     "data": {
      "text/plain": [
       "DatetimeIndex(['2021-01-01', '2021-01-03', '2021-01-05', '2021-01-07',\n",
       "               '2021-01-09'],\n",
       "              dtype='datetime64[ns]', freq='2D')"
      ]
     },
     "execution_count": 47,
     "metadata": {},
     "output_type": "execute_result"
    }
   ],
   "source": [
    "pd.date_range(start='2021-01-01', end='2021-01-10', freq='2D')#2 day increment 'B' is for buisness day 'W' first date of week by sunday\n",
    "# to set w as our start week day 'W-FRI' #this is make friday as starting week day, 'H' for hrs, '6H ' in crement of 6 hrs\n",
    "#'M' month retuen last day of each month, 'MS' moth start date,\n",
    "#'A' year end,'AS' year starting date"
   ]
  },
  {
   "cell_type": "code",
   "execution_count": 49,
   "id": "2fac1c14",
   "metadata": {},
   "outputs": [
    {
     "data": {
      "text/plain": [
       "DatetimeIndex(['2021-01-01', '2022-01-01', '2023-01-01', '2024-01-01',\n",
       "               '2025-01-01', '2026-01-01', '2027-01-01', '2028-01-01',\n",
       "               '2029-01-01'],\n",
       "              dtype='datetime64[ns]', freq='AS-JAN')"
      ]
     },
     "execution_count": 49,
     "metadata": {},
     "output_type": "execute_result"
    }
   ],
   "source": [
    "pd.date_range(start='2021-01-01', end='2029-12-31', freq='AS')"
   ]
  },
  {
   "cell_type": "code",
   "execution_count": 50,
   "id": "8300f9cb",
   "metadata": {},
   "outputs": [],
   "source": [
    "#period"
   ]
  },
  {
   "cell_type": "code",
   "execution_count": 51,
   "id": "c45ad812",
   "metadata": {},
   "outputs": [
    {
     "data": {
      "text/plain": [
       "DatetimeIndex(['2021-01-01', '2021-01-02', '2021-01-03', '2021-01-04',\n",
       "               '2021-01-05', '2021-01-06', '2021-01-07', '2021-01-08',\n",
       "               '2021-01-09', '2021-01-10', '2021-01-11', '2021-01-12',\n",
       "               '2021-01-13', '2021-01-14', '2021-01-15', '2021-01-16',\n",
       "               '2021-01-17', '2021-01-18', '2021-01-19', '2021-01-20'],\n",
       "              dtype='datetime64[ns]', freq='D')"
      ]
     },
     "execution_count": 51,
     "metadata": {},
     "output_type": "execute_result"
    }
   ],
   "source": [
    "pd.date_range(start='2021-01-01', periods=20, freq='D') #period is + the start date"
   ]
  },
  {
   "cell_type": "code",
   "execution_count": 52,
   "id": "462795ab",
   "metadata": {},
   "outputs": [],
   "source": [
    "# starting with end"
   ]
  },
  {
   "cell_type": "code",
   "execution_count": 53,
   "id": "125f28a4",
   "metadata": {},
   "outputs": [
    {
     "data": {
      "text/plain": [
       "DatetimeIndex(['2020-12-13', '2020-12-14', '2020-12-15', '2020-12-16',\n",
       "               '2020-12-17', '2020-12-18', '2020-12-19', '2020-12-20',\n",
       "               '2020-12-21', '2020-12-22', '2020-12-23', '2020-12-24',\n",
       "               '2020-12-25', '2020-12-26', '2020-12-27', '2020-12-28',\n",
       "               '2020-12-29', '2020-12-30', '2020-12-31', '2021-01-01'],\n",
       "              dtype='datetime64[ns]', freq='D')"
      ]
     },
     "execution_count": 53,
     "metadata": {},
     "output_type": "execute_result"
    }
   ],
   "source": [
    "pd.date_range(end='2021-01-01', periods=20, freq='D')"
   ]
  },
  {
   "cell_type": "code",
   "execution_count": 55,
   "id": "9dcf854f",
   "metadata": {},
   "outputs": [],
   "source": [
    "# dt accessor"
   ]
  },
  {
   "cell_type": "code",
   "execution_count": 68,
   "id": "0160058c",
   "metadata": {},
   "outputs": [
    {
     "data": {
      "text/plain": [
       "0    2021-01-01\n",
       "1    2021-01-25\n",
       "2    2021-02-18\n",
       "3    2021-03-14\n",
       "4    2021-04-07\n",
       "5    2021-05-01\n",
       "6    2021-05-25\n",
       "7    2021-06-18\n",
       "8    2021-07-12\n",
       "9    2021-08-05\n",
       "10   2021-08-29\n",
       "11   2021-09-22\n",
       "12   2021-10-16\n",
       "13   2021-11-09\n",
       "14   2021-12-03\n",
       "15   2021-12-27\n",
       "dtype: datetime64[ns]"
      ]
     },
     "execution_count": 68,
     "metadata": {},
     "output_type": "execute_result"
    }
   ],
   "source": [
    "daata= pd.date_range(start='2021-01-01',end='2021-12-31', freq='24D')\n",
    "s3 = pd.Series(daata)\n",
    "s3"
   ]
  },
  {
   "cell_type": "code",
   "execution_count": 69,
   "id": "cea7aef5",
   "metadata": {},
   "outputs": [
    {
     "data": {
      "text/plain": [
       "0     4\n",
       "1     0\n",
       "2     3\n",
       "3     6\n",
       "4     2\n",
       "5     5\n",
       "6     1\n",
       "7     4\n",
       "8     0\n",
       "9     3\n",
       "10    6\n",
       "11    2\n",
       "12    5\n",
       "13    1\n",
       "14    4\n",
       "15    0\n",
       "dtype: int64"
      ]
     },
     "execution_count": 69,
     "metadata": {},
     "output_type": "execute_result"
    }
   ],
   "source": [
    "s3.dt.weekday"
   ]
  },
  {
   "cell_type": "code",
   "execution_count": 70,
   "id": "6ab84d46",
   "metadata": {},
   "outputs": [
    {
     "data": {
      "text/plain": [
       "0      True\n",
       "1     False\n",
       "2     False\n",
       "3     False\n",
       "4     False\n",
       "5     False\n",
       "6     False\n",
       "7     False\n",
       "8     False\n",
       "9     False\n",
       "10    False\n",
       "11    False\n",
       "12    False\n",
       "13    False\n",
       "14    False\n",
       "15    False\n",
       "dtype: bool"
      ]
     },
     "execution_count": 70,
     "metadata": {},
     "output_type": "execute_result"
    }
   ],
   "source": [
    "s3.dt.is_quarter_start"
   ]
  },
  {
   "cell_type": "code",
   "execution_count": 39,
   "id": "e5113df6",
   "metadata": {},
   "outputs": [],
   "source": [
    "import pandas as pd\n",
    "import datetime as dt\n",
    "from pandas_datareader import data"
   ]
  },
  {
   "cell_type": "code",
   "execution_count": 40,
   "id": "3103da51",
   "metadata": {},
   "outputs": [
    {
     "data": {
      "text/html": [
       "<div>\n",
       "<style scoped>\n",
       "    .dataframe tbody tr th:only-of-type {\n",
       "        vertical-align: middle;\n",
       "    }\n",
       "\n",
       "    .dataframe tbody tr th {\n",
       "        vertical-align: top;\n",
       "    }\n",
       "\n",
       "    .dataframe thead th {\n",
       "        text-align: right;\n",
       "    }\n",
       "</style>\n",
       "<table border=\"1\" class=\"dataframe\">\n",
       "  <thead>\n",
       "    <tr style=\"text-align: right;\">\n",
       "      <th></th>\n",
       "      <th>High</th>\n",
       "      <th>Low</th>\n",
       "      <th>Open</th>\n",
       "      <th>Close</th>\n",
       "      <th>Volume</th>\n",
       "      <th>Adj Close</th>\n",
       "    </tr>\n",
       "    <tr>\n",
       "      <th>Date</th>\n",
       "      <th></th>\n",
       "      <th></th>\n",
       "      <th></th>\n",
       "      <th></th>\n",
       "      <th></th>\n",
       "      <th></th>\n",
       "    </tr>\n",
       "  </thead>\n",
       "  <tbody>\n",
       "    <tr>\n",
       "      <th>2009-12-31</th>\n",
       "      <td>30.990000</td>\n",
       "      <td>30.480000</td>\n",
       "      <td>30.980000</td>\n",
       "      <td>30.480000</td>\n",
       "      <td>31929700.0</td>\n",
       "      <td>23.493389</td>\n",
       "    </tr>\n",
       "    <tr>\n",
       "      <th>2010-01-04</th>\n",
       "      <td>31.100000</td>\n",
       "      <td>30.590000</td>\n",
       "      <td>30.620001</td>\n",
       "      <td>30.950001</td>\n",
       "      <td>38409100.0</td>\n",
       "      <td>23.855658</td>\n",
       "    </tr>\n",
       "    <tr>\n",
       "      <th>2010-01-05</th>\n",
       "      <td>31.100000</td>\n",
       "      <td>30.639999</td>\n",
       "      <td>30.850000</td>\n",
       "      <td>30.959999</td>\n",
       "      <td>49749600.0</td>\n",
       "      <td>23.863365</td>\n",
       "    </tr>\n",
       "    <tr>\n",
       "      <th>2010-01-06</th>\n",
       "      <td>31.080000</td>\n",
       "      <td>30.520000</td>\n",
       "      <td>30.879999</td>\n",
       "      <td>30.770000</td>\n",
       "      <td>58182400.0</td>\n",
       "      <td>23.716913</td>\n",
       "    </tr>\n",
       "    <tr>\n",
       "      <th>2010-01-07</th>\n",
       "      <td>30.700001</td>\n",
       "      <td>30.190001</td>\n",
       "      <td>30.629999</td>\n",
       "      <td>30.450001</td>\n",
       "      <td>50559700.0</td>\n",
       "      <td>23.470264</td>\n",
       "    </tr>\n",
       "    <tr>\n",
       "      <th>...</th>\n",
       "      <td>...</td>\n",
       "      <td>...</td>\n",
       "      <td>...</td>\n",
       "      <td>...</td>\n",
       "      <td>...</td>\n",
       "      <td>...</td>\n",
       "    </tr>\n",
       "    <tr>\n",
       "      <th>2020-12-24</th>\n",
       "      <td>223.610001</td>\n",
       "      <td>221.199997</td>\n",
       "      <td>221.419998</td>\n",
       "      <td>222.750000</td>\n",
       "      <td>10550600.0</td>\n",
       "      <td>220.442566</td>\n",
       "    </tr>\n",
       "    <tr>\n",
       "      <th>2020-12-28</th>\n",
       "      <td>226.029999</td>\n",
       "      <td>223.020004</td>\n",
       "      <td>224.449997</td>\n",
       "      <td>224.960007</td>\n",
       "      <td>17933500.0</td>\n",
       "      <td>222.629654</td>\n",
       "    </tr>\n",
       "    <tr>\n",
       "      <th>2020-12-29</th>\n",
       "      <td>227.179993</td>\n",
       "      <td>223.580002</td>\n",
       "      <td>226.309998</td>\n",
       "      <td>224.149994</td>\n",
       "      <td>17403200.0</td>\n",
       "      <td>221.828049</td>\n",
       "    </tr>\n",
       "    <tr>\n",
       "      <th>2020-12-30</th>\n",
       "      <td>225.630005</td>\n",
       "      <td>221.470001</td>\n",
       "      <td>225.229996</td>\n",
       "      <td>221.679993</td>\n",
       "      <td>20272300.0</td>\n",
       "      <td>219.383652</td>\n",
       "    </tr>\n",
       "    <tr>\n",
       "      <th>2020-12-31</th>\n",
       "      <td>223.000000</td>\n",
       "      <td>219.679993</td>\n",
       "      <td>221.699997</td>\n",
       "      <td>222.419998</td>\n",
       "      <td>20942100.0</td>\n",
       "      <td>220.115967</td>\n",
       "    </tr>\n",
       "  </tbody>\n",
       "</table>\n",
       "<p>2770 rows × 6 columns</p>\n",
       "</div>"
      ],
      "text/plain": [
       "                  High         Low        Open       Close      Volume  \\\n",
       "Date                                                                     \n",
       "2009-12-31   30.990000   30.480000   30.980000   30.480000  31929700.0   \n",
       "2010-01-04   31.100000   30.590000   30.620001   30.950001  38409100.0   \n",
       "2010-01-05   31.100000   30.639999   30.850000   30.959999  49749600.0   \n",
       "2010-01-06   31.080000   30.520000   30.879999   30.770000  58182400.0   \n",
       "2010-01-07   30.700001   30.190001   30.629999   30.450001  50559700.0   \n",
       "...                ...         ...         ...         ...         ...   \n",
       "2020-12-24  223.610001  221.199997  221.419998  222.750000  10550600.0   \n",
       "2020-12-28  226.029999  223.020004  224.449997  224.960007  17933500.0   \n",
       "2020-12-29  227.179993  223.580002  226.309998  224.149994  17403200.0   \n",
       "2020-12-30  225.630005  221.470001  225.229996  221.679993  20272300.0   \n",
       "2020-12-31  223.000000  219.679993  221.699997  222.419998  20942100.0   \n",
       "\n",
       "             Adj Close  \n",
       "Date                    \n",
       "2009-12-31   23.493389  \n",
       "2010-01-04   23.855658  \n",
       "2010-01-05   23.863365  \n",
       "2010-01-06   23.716913  \n",
       "2010-01-07   23.470264  \n",
       "...                ...  \n",
       "2020-12-24  220.442566  \n",
       "2020-12-28  222.629654  \n",
       "2020-12-29  221.828049  \n",
       "2020-12-30  219.383652  \n",
       "2020-12-31  220.115967  \n",
       "\n",
       "[2770 rows x 6 columns]"
      ]
     },
     "execution_count": 40,
     "metadata": {},
     "output_type": "execute_result"
    }
   ],
   "source": [
    "stocks = data.DataReader(name='MSFT',data_source='yahoo',start='2010-01-01',end='2020-12-31')\n",
    "stocks"
   ]
  },
  {
   "cell_type": "code",
   "execution_count": 11,
   "id": "fbd5e924",
   "metadata": {},
   "outputs": [
    {
     "data": {
      "text/plain": [
       "DatetimeIndex(['2009-12-31', '2010-01-04', '2010-01-05', '2010-01-06',\n",
       "               '2010-01-07', '2010-01-08', '2010-01-11', '2010-01-12',\n",
       "               '2010-01-13', '2010-01-14',\n",
       "               ...\n",
       "               '2020-12-17', '2020-12-18', '2020-12-21', '2020-12-22',\n",
       "               '2020-12-23', '2020-12-24', '2020-12-28', '2020-12-29',\n",
       "               '2020-12-30', '2020-12-31'],\n",
       "              dtype='datetime64[ns]', name='Date', length=2770, freq=None)"
      ]
     },
     "execution_count": 11,
     "metadata": {},
     "output_type": "execute_result"
    }
   ],
   "source": [
    "stocks.index"
   ]
  },
  {
   "cell_type": "code",
   "execution_count": 42,
   "id": "9cc3fc8a",
   "metadata": {},
   "outputs": [
    {
     "data": {
      "text/plain": [
       "High         3.099000e+01\n",
       "Low          3.048000e+01\n",
       "Open         3.098000e+01\n",
       "Close        3.048000e+01\n",
       "Volume       3.192970e+07\n",
       "Adj Close    2.349339e+01\n",
       "Name: 2009-12-31 00:00:00, dtype: float64"
      ]
     },
     "execution_count": 42,
     "metadata": {},
     "output_type": "execute_result"
    }
   ],
   "source": [
    "stocks.loc['2009-12-31']\n",
    "#better to use pd \n",
    "stocks.loc[pd.Timestamp('2009-12-31')]"
   ]
  },
  {
   "cell_type": "code",
   "execution_count": 14,
   "id": "552969d4",
   "metadata": {},
   "outputs": [
    {
     "data": {
      "text/html": [
       "<div>\n",
       "<style scoped>\n",
       "    .dataframe tbody tr th:only-of-type {\n",
       "        vertical-align: middle;\n",
       "    }\n",
       "\n",
       "    .dataframe tbody tr th {\n",
       "        vertical-align: top;\n",
       "    }\n",
       "\n",
       "    .dataframe thead th {\n",
       "        text-align: right;\n",
       "    }\n",
       "</style>\n",
       "<table border=\"1\" class=\"dataframe\">\n",
       "  <thead>\n",
       "    <tr style=\"text-align: right;\">\n",
       "      <th></th>\n",
       "      <th>High</th>\n",
       "      <th>Low</th>\n",
       "      <th>Open</th>\n",
       "      <th>Close</th>\n",
       "      <th>Volume</th>\n",
       "      <th>Adj Close</th>\n",
       "    </tr>\n",
       "    <tr>\n",
       "      <th>Date</th>\n",
       "      <th></th>\n",
       "      <th></th>\n",
       "      <th></th>\n",
       "      <th></th>\n",
       "      <th></th>\n",
       "      <th></th>\n",
       "    </tr>\n",
       "  </thead>\n",
       "  <tbody>\n",
       "    <tr>\n",
       "      <th>2009-12-31</th>\n",
       "      <td>30.990000</td>\n",
       "      <td>30.480000</td>\n",
       "      <td>30.980000</td>\n",
       "      <td>30.48</td>\n",
       "      <td>31929700.0</td>\n",
       "      <td>23.541971</td>\n",
       "    </tr>\n",
       "    <tr>\n",
       "      <th>2020-12-24</th>\n",
       "      <td>223.610001</td>\n",
       "      <td>221.199997</td>\n",
       "      <td>221.419998</td>\n",
       "      <td>222.75</td>\n",
       "      <td>10550600.0</td>\n",
       "      <td>220.898376</td>\n",
       "    </tr>\n",
       "  </tbody>\n",
       "</table>\n",
       "</div>"
      ],
      "text/plain": [
       "                  High         Low        Open   Close      Volume   Adj Close\n",
       "Date                                                                          \n",
       "2009-12-31   30.990000   30.480000   30.980000   30.48  31929700.0   23.541971\n",
       "2020-12-24  223.610001  221.199997  221.419998  222.75  10550600.0  220.898376"
      ]
     },
     "execution_count": 14,
     "metadata": {},
     "output_type": "execute_result"
    }
   ],
   "source": [
    "stocks.loc[['2009-12-31','2020-12-24']]\n"
   ]
  },
  {
   "cell_type": "code",
   "execution_count": 15,
   "id": "9ce4bb39",
   "metadata": {},
   "outputs": [
    {
     "data": {
      "text/html": [
       "<div>\n",
       "<style scoped>\n",
       "    .dataframe tbody tr th:only-of-type {\n",
       "        vertical-align: middle;\n",
       "    }\n",
       "\n",
       "    .dataframe tbody tr th {\n",
       "        vertical-align: top;\n",
       "    }\n",
       "\n",
       "    .dataframe thead th {\n",
       "        text-align: right;\n",
       "    }\n",
       "</style>\n",
       "<table border=\"1\" class=\"dataframe\">\n",
       "  <thead>\n",
       "    <tr style=\"text-align: right;\">\n",
       "      <th></th>\n",
       "      <th>High</th>\n",
       "      <th>Low</th>\n",
       "      <th>Open</th>\n",
       "      <th>Close</th>\n",
       "      <th>Volume</th>\n",
       "      <th>Adj Close</th>\n",
       "    </tr>\n",
       "    <tr>\n",
       "      <th>Date</th>\n",
       "      <th></th>\n",
       "      <th></th>\n",
       "      <th></th>\n",
       "      <th></th>\n",
       "      <th></th>\n",
       "      <th></th>\n",
       "    </tr>\n",
       "  </thead>\n",
       "  <tbody>\n",
       "    <tr>\n",
       "      <th>2009-12-31</th>\n",
       "      <td>30.990000</td>\n",
       "      <td>30.480000</td>\n",
       "      <td>30.980000</td>\n",
       "      <td>30.48</td>\n",
       "      <td>31929700.0</td>\n",
       "      <td>23.541971</td>\n",
       "    </tr>\n",
       "    <tr>\n",
       "      <th>2020-12-24</th>\n",
       "      <td>223.610001</td>\n",
       "      <td>221.199997</td>\n",
       "      <td>221.419998</td>\n",
       "      <td>222.75</td>\n",
       "      <td>10550600.0</td>\n",
       "      <td>220.898376</td>\n",
       "    </tr>\n",
       "  </tbody>\n",
       "</table>\n",
       "</div>"
      ],
      "text/plain": [
       "                  High         Low        Open   Close      Volume   Adj Close\n",
       "Date                                                                          \n",
       "2009-12-31   30.990000   30.480000   30.980000   30.48  31929700.0   23.541971\n",
       "2020-12-24  223.610001  221.199997  221.419998  222.75  10550600.0  220.898376"
      ]
     },
     "execution_count": 15,
     "metadata": {},
     "output_type": "execute_result"
    }
   ],
   "source": [
    "stocks.loc[[pd.Timestamp('2009-12-31'),pd.Timestamp('2020-12-24')]]"
   ]
  },
  {
   "cell_type": "code",
   "execution_count": 16,
   "id": "62b7bf94",
   "metadata": {},
   "outputs": [
    {
     "data": {
      "text/html": [
       "<div>\n",
       "<style scoped>\n",
       "    .dataframe tbody tr th:only-of-type {\n",
       "        vertical-align: middle;\n",
       "    }\n",
       "\n",
       "    .dataframe tbody tr th {\n",
       "        vertical-align: top;\n",
       "    }\n",
       "\n",
       "    .dataframe thead th {\n",
       "        text-align: right;\n",
       "    }\n",
       "</style>\n",
       "<table border=\"1\" class=\"dataframe\">\n",
       "  <thead>\n",
       "    <tr style=\"text-align: right;\">\n",
       "      <th></th>\n",
       "      <th>High</th>\n",
       "      <th>Low</th>\n",
       "      <th>Open</th>\n",
       "      <th>Close</th>\n",
       "      <th>Volume</th>\n",
       "      <th>Adj Close</th>\n",
       "    </tr>\n",
       "    <tr>\n",
       "      <th>Date</th>\n",
       "      <th></th>\n",
       "      <th></th>\n",
       "      <th></th>\n",
       "      <th></th>\n",
       "      <th></th>\n",
       "      <th></th>\n",
       "    </tr>\n",
       "  </thead>\n",
       "  <tbody>\n",
       "    <tr>\n",
       "      <th>2020-01-13</th>\n",
       "      <td>163.309998</td>\n",
       "      <td>161.259995</td>\n",
       "      <td>161.759995</td>\n",
       "      <td>163.279999</td>\n",
       "      <td>21626500.0</td>\n",
       "      <td>160.225342</td>\n",
       "    </tr>\n",
       "    <tr>\n",
       "      <th>2020-01-14</th>\n",
       "      <td>163.600006</td>\n",
       "      <td>161.720001</td>\n",
       "      <td>163.389999</td>\n",
       "      <td>162.130005</td>\n",
       "      <td>23477400.0</td>\n",
       "      <td>159.096863</td>\n",
       "    </tr>\n",
       "    <tr>\n",
       "      <th>2020-01-15</th>\n",
       "      <td>163.940002</td>\n",
       "      <td>162.570007</td>\n",
       "      <td>162.619995</td>\n",
       "      <td>163.179993</td>\n",
       "      <td>21417900.0</td>\n",
       "      <td>160.127213</td>\n",
       "    </tr>\n",
       "    <tr>\n",
       "      <th>2020-01-16</th>\n",
       "      <td>166.240005</td>\n",
       "      <td>164.029999</td>\n",
       "      <td>164.350006</td>\n",
       "      <td>166.169998</td>\n",
       "      <td>23865400.0</td>\n",
       "      <td>163.061295</td>\n",
       "    </tr>\n",
       "    <tr>\n",
       "      <th>2020-01-17</th>\n",
       "      <td>167.470001</td>\n",
       "      <td>165.429993</td>\n",
       "      <td>167.419998</td>\n",
       "      <td>167.100006</td>\n",
       "      <td>34371700.0</td>\n",
       "      <td>163.973892</td>\n",
       "    </tr>\n",
       "    <tr>\n",
       "      <th>2020-01-21</th>\n",
       "      <td>168.190002</td>\n",
       "      <td>166.429993</td>\n",
       "      <td>166.679993</td>\n",
       "      <td>166.500000</td>\n",
       "      <td>29517200.0</td>\n",
       "      <td>163.385101</td>\n",
       "    </tr>\n",
       "    <tr>\n",
       "      <th>2020-01-22</th>\n",
       "      <td>167.490005</td>\n",
       "      <td>165.679993</td>\n",
       "      <td>167.399994</td>\n",
       "      <td>165.699997</td>\n",
       "      <td>24138800.0</td>\n",
       "      <td>162.600082</td>\n",
       "    </tr>\n",
       "    <tr>\n",
       "      <th>2020-01-23</th>\n",
       "      <td>166.800003</td>\n",
       "      <td>165.270004</td>\n",
       "      <td>166.190002</td>\n",
       "      <td>166.720001</td>\n",
       "      <td>19680800.0</td>\n",
       "      <td>163.600998</td>\n",
       "    </tr>\n",
       "    <tr>\n",
       "      <th>2020-01-24</th>\n",
       "      <td>167.529999</td>\n",
       "      <td>164.449997</td>\n",
       "      <td>167.509995</td>\n",
       "      <td>165.039993</td>\n",
       "      <td>24918100.0</td>\n",
       "      <td>161.952423</td>\n",
       "    </tr>\n",
       "    <tr>\n",
       "      <th>2020-01-27</th>\n",
       "      <td>163.380005</td>\n",
       "      <td>160.199997</td>\n",
       "      <td>161.149994</td>\n",
       "      <td>162.279999</td>\n",
       "      <td>32078100.0</td>\n",
       "      <td>159.244049</td>\n",
       "    </tr>\n",
       "    <tr>\n",
       "      <th>2020-01-28</th>\n",
       "      <td>165.759995</td>\n",
       "      <td>163.070007</td>\n",
       "      <td>163.779999</td>\n",
       "      <td>165.460007</td>\n",
       "      <td>24899900.0</td>\n",
       "      <td>162.364563</td>\n",
       "    </tr>\n",
       "    <tr>\n",
       "      <th>2020-01-29</th>\n",
       "      <td>168.750000</td>\n",
       "      <td>165.690002</td>\n",
       "      <td>167.839996</td>\n",
       "      <td>168.039993</td>\n",
       "      <td>34754500.0</td>\n",
       "      <td>164.896301</td>\n",
       "    </tr>\n",
       "    <tr>\n",
       "      <th>2020-01-30</th>\n",
       "      <td>174.050003</td>\n",
       "      <td>170.789993</td>\n",
       "      <td>174.050003</td>\n",
       "      <td>172.779999</td>\n",
       "      <td>51597500.0</td>\n",
       "      <td>169.547623</td>\n",
       "    </tr>\n",
       "    <tr>\n",
       "      <th>2020-01-31</th>\n",
       "      <td>172.399994</td>\n",
       "      <td>169.580002</td>\n",
       "      <td>172.210007</td>\n",
       "      <td>170.229996</td>\n",
       "      <td>36142700.0</td>\n",
       "      <td>167.045319</td>\n",
       "    </tr>\n",
       "  </tbody>\n",
       "</table>\n",
       "</div>"
      ],
      "text/plain": [
       "                  High         Low        Open       Close      Volume  \\\n",
       "Date                                                                     \n",
       "2020-01-13  163.309998  161.259995  161.759995  163.279999  21626500.0   \n",
       "2020-01-14  163.600006  161.720001  163.389999  162.130005  23477400.0   \n",
       "2020-01-15  163.940002  162.570007  162.619995  163.179993  21417900.0   \n",
       "2020-01-16  166.240005  164.029999  164.350006  166.169998  23865400.0   \n",
       "2020-01-17  167.470001  165.429993  167.419998  167.100006  34371700.0   \n",
       "2020-01-21  168.190002  166.429993  166.679993  166.500000  29517200.0   \n",
       "2020-01-22  167.490005  165.679993  167.399994  165.699997  24138800.0   \n",
       "2020-01-23  166.800003  165.270004  166.190002  166.720001  19680800.0   \n",
       "2020-01-24  167.529999  164.449997  167.509995  165.039993  24918100.0   \n",
       "2020-01-27  163.380005  160.199997  161.149994  162.279999  32078100.0   \n",
       "2020-01-28  165.759995  163.070007  163.779999  165.460007  24899900.0   \n",
       "2020-01-29  168.750000  165.690002  167.839996  168.039993  34754500.0   \n",
       "2020-01-30  174.050003  170.789993  174.050003  172.779999  51597500.0   \n",
       "2020-01-31  172.399994  169.580002  172.210007  170.229996  36142700.0   \n",
       "\n",
       "             Adj Close  \n",
       "Date                    \n",
       "2020-01-13  160.225342  \n",
       "2020-01-14  159.096863  \n",
       "2020-01-15  160.127213  \n",
       "2020-01-16  163.061295  \n",
       "2020-01-17  163.973892  \n",
       "2020-01-21  163.385101  \n",
       "2020-01-22  162.600082  \n",
       "2020-01-23  163.600998  \n",
       "2020-01-24  161.952423  \n",
       "2020-01-27  159.244049  \n",
       "2020-01-28  162.364563  \n",
       "2020-01-29  164.896301  \n",
       "2020-01-30  169.547623  \n",
       "2020-01-31  167.045319  "
      ]
     },
     "execution_count": 16,
     "metadata": {},
     "output_type": "execute_result"
    }
   ],
   "source": [
    "stocks.loc['2020-01-12':'2020-01-31']"
   ]
  },
  {
   "cell_type": "code",
   "execution_count": 17,
   "id": "36756c86",
   "metadata": {},
   "outputs": [
    {
     "data": {
      "text/html": [
       "<div>\n",
       "<style scoped>\n",
       "    .dataframe tbody tr th:only-of-type {\n",
       "        vertical-align: middle;\n",
       "    }\n",
       "\n",
       "    .dataframe tbody tr th {\n",
       "        vertical-align: top;\n",
       "    }\n",
       "\n",
       "    .dataframe thead th {\n",
       "        text-align: right;\n",
       "    }\n",
       "</style>\n",
       "<table border=\"1\" class=\"dataframe\">\n",
       "  <thead>\n",
       "    <tr style=\"text-align: right;\">\n",
       "      <th></th>\n",
       "      <th>High</th>\n",
       "      <th>Low</th>\n",
       "      <th>Open</th>\n",
       "      <th>Close</th>\n",
       "      <th>Volume</th>\n",
       "      <th>Adj Close</th>\n",
       "    </tr>\n",
       "    <tr>\n",
       "      <th>Date</th>\n",
       "      <th></th>\n",
       "      <th></th>\n",
       "      <th></th>\n",
       "      <th></th>\n",
       "      <th></th>\n",
       "      <th></th>\n",
       "    </tr>\n",
       "  </thead>\n",
       "  <tbody>\n",
       "    <tr>\n",
       "      <th>2020-01-02</th>\n",
       "      <td>160.729996</td>\n",
       "      <td>158.330002</td>\n",
       "      <td>158.779999</td>\n",
       "      <td>160.619995</td>\n",
       "      <td>22622100.0</td>\n",
       "      <td>157.615112</td>\n",
       "    </tr>\n",
       "    <tr>\n",
       "      <th>2020-01-03</th>\n",
       "      <td>159.949997</td>\n",
       "      <td>158.059998</td>\n",
       "      <td>158.320007</td>\n",
       "      <td>158.619995</td>\n",
       "      <td>21116200.0</td>\n",
       "      <td>155.652542</td>\n",
       "    </tr>\n",
       "    <tr>\n",
       "      <th>2020-01-06</th>\n",
       "      <td>159.100006</td>\n",
       "      <td>156.509995</td>\n",
       "      <td>157.080002</td>\n",
       "      <td>159.029999</td>\n",
       "      <td>20813700.0</td>\n",
       "      <td>156.054871</td>\n",
       "    </tr>\n",
       "    <tr>\n",
       "      <th>2020-01-07</th>\n",
       "      <td>159.669998</td>\n",
       "      <td>157.320007</td>\n",
       "      <td>159.320007</td>\n",
       "      <td>157.580002</td>\n",
       "      <td>21634100.0</td>\n",
       "      <td>154.631989</td>\n",
       "    </tr>\n",
       "    <tr>\n",
       "      <th>2020-01-08</th>\n",
       "      <td>160.800003</td>\n",
       "      <td>157.949997</td>\n",
       "      <td>158.929993</td>\n",
       "      <td>160.089996</td>\n",
       "      <td>27746500.0</td>\n",
       "      <td>157.095047</td>\n",
       "    </tr>\n",
       "    <tr>\n",
       "      <th>2020-01-09</th>\n",
       "      <td>162.220001</td>\n",
       "      <td>161.029999</td>\n",
       "      <td>161.839996</td>\n",
       "      <td>162.089996</td>\n",
       "      <td>21385000.0</td>\n",
       "      <td>159.057602</td>\n",
       "    </tr>\n",
       "    <tr>\n",
       "      <th>2020-01-10</th>\n",
       "      <td>163.220001</td>\n",
       "      <td>161.179993</td>\n",
       "      <td>162.820007</td>\n",
       "      <td>161.339996</td>\n",
       "      <td>20725900.0</td>\n",
       "      <td>158.321640</td>\n",
       "    </tr>\n",
       "    <tr>\n",
       "      <th>2020-01-13</th>\n",
       "      <td>163.309998</td>\n",
       "      <td>161.259995</td>\n",
       "      <td>161.759995</td>\n",
       "      <td>163.279999</td>\n",
       "      <td>21626500.0</td>\n",
       "      <td>160.225342</td>\n",
       "    </tr>\n",
       "    <tr>\n",
       "      <th>2020-01-14</th>\n",
       "      <td>163.600006</td>\n",
       "      <td>161.720001</td>\n",
       "      <td>163.389999</td>\n",
       "      <td>162.130005</td>\n",
       "      <td>23477400.0</td>\n",
       "      <td>159.096863</td>\n",
       "    </tr>\n",
       "    <tr>\n",
       "      <th>2020-01-15</th>\n",
       "      <td>163.940002</td>\n",
       "      <td>162.570007</td>\n",
       "      <td>162.619995</td>\n",
       "      <td>163.179993</td>\n",
       "      <td>21417900.0</td>\n",
       "      <td>160.127213</td>\n",
       "    </tr>\n",
       "    <tr>\n",
       "      <th>2020-01-16</th>\n",
       "      <td>166.240005</td>\n",
       "      <td>164.029999</td>\n",
       "      <td>164.350006</td>\n",
       "      <td>166.169998</td>\n",
       "      <td>23865400.0</td>\n",
       "      <td>163.061295</td>\n",
       "    </tr>\n",
       "    <tr>\n",
       "      <th>2020-01-17</th>\n",
       "      <td>167.470001</td>\n",
       "      <td>165.429993</td>\n",
       "      <td>167.419998</td>\n",
       "      <td>167.100006</td>\n",
       "      <td>34371700.0</td>\n",
       "      <td>163.973892</td>\n",
       "    </tr>\n",
       "    <tr>\n",
       "      <th>2020-01-21</th>\n",
       "      <td>168.190002</td>\n",
       "      <td>166.429993</td>\n",
       "      <td>166.679993</td>\n",
       "      <td>166.500000</td>\n",
       "      <td>29517200.0</td>\n",
       "      <td>163.385101</td>\n",
       "    </tr>\n",
       "    <tr>\n",
       "      <th>2020-01-22</th>\n",
       "      <td>167.490005</td>\n",
       "      <td>165.679993</td>\n",
       "      <td>167.399994</td>\n",
       "      <td>165.699997</td>\n",
       "      <td>24138800.0</td>\n",
       "      <td>162.600082</td>\n",
       "    </tr>\n",
       "    <tr>\n",
       "      <th>2020-01-23</th>\n",
       "      <td>166.800003</td>\n",
       "      <td>165.270004</td>\n",
       "      <td>166.190002</td>\n",
       "      <td>166.720001</td>\n",
       "      <td>19680800.0</td>\n",
       "      <td>163.600998</td>\n",
       "    </tr>\n",
       "    <tr>\n",
       "      <th>2020-01-24</th>\n",
       "      <td>167.529999</td>\n",
       "      <td>164.449997</td>\n",
       "      <td>167.509995</td>\n",
       "      <td>165.039993</td>\n",
       "      <td>24918100.0</td>\n",
       "      <td>161.952423</td>\n",
       "    </tr>\n",
       "    <tr>\n",
       "      <th>2020-01-27</th>\n",
       "      <td>163.380005</td>\n",
       "      <td>160.199997</td>\n",
       "      <td>161.149994</td>\n",
       "      <td>162.279999</td>\n",
       "      <td>32078100.0</td>\n",
       "      <td>159.244049</td>\n",
       "    </tr>\n",
       "    <tr>\n",
       "      <th>2020-01-28</th>\n",
       "      <td>165.759995</td>\n",
       "      <td>163.070007</td>\n",
       "      <td>163.779999</td>\n",
       "      <td>165.460007</td>\n",
       "      <td>24899900.0</td>\n",
       "      <td>162.364563</td>\n",
       "    </tr>\n",
       "    <tr>\n",
       "      <th>2020-01-29</th>\n",
       "      <td>168.750000</td>\n",
       "      <td>165.690002</td>\n",
       "      <td>167.839996</td>\n",
       "      <td>168.039993</td>\n",
       "      <td>34754500.0</td>\n",
       "      <td>164.896301</td>\n",
       "    </tr>\n",
       "    <tr>\n",
       "      <th>2020-01-30</th>\n",
       "      <td>174.050003</td>\n",
       "      <td>170.789993</td>\n",
       "      <td>174.050003</td>\n",
       "      <td>172.779999</td>\n",
       "      <td>51597500.0</td>\n",
       "      <td>169.547623</td>\n",
       "    </tr>\n",
       "    <tr>\n",
       "      <th>2020-01-31</th>\n",
       "      <td>172.399994</td>\n",
       "      <td>169.580002</td>\n",
       "      <td>172.210007</td>\n",
       "      <td>170.229996</td>\n",
       "      <td>36142700.0</td>\n",
       "      <td>167.045319</td>\n",
       "    </tr>\n",
       "  </tbody>\n",
       "</table>\n",
       "</div>"
      ],
      "text/plain": [
       "                  High         Low        Open       Close      Volume  \\\n",
       "Date                                                                     \n",
       "2020-01-02  160.729996  158.330002  158.779999  160.619995  22622100.0   \n",
       "2020-01-03  159.949997  158.059998  158.320007  158.619995  21116200.0   \n",
       "2020-01-06  159.100006  156.509995  157.080002  159.029999  20813700.0   \n",
       "2020-01-07  159.669998  157.320007  159.320007  157.580002  21634100.0   \n",
       "2020-01-08  160.800003  157.949997  158.929993  160.089996  27746500.0   \n",
       "2020-01-09  162.220001  161.029999  161.839996  162.089996  21385000.0   \n",
       "2020-01-10  163.220001  161.179993  162.820007  161.339996  20725900.0   \n",
       "2020-01-13  163.309998  161.259995  161.759995  163.279999  21626500.0   \n",
       "2020-01-14  163.600006  161.720001  163.389999  162.130005  23477400.0   \n",
       "2020-01-15  163.940002  162.570007  162.619995  163.179993  21417900.0   \n",
       "2020-01-16  166.240005  164.029999  164.350006  166.169998  23865400.0   \n",
       "2020-01-17  167.470001  165.429993  167.419998  167.100006  34371700.0   \n",
       "2020-01-21  168.190002  166.429993  166.679993  166.500000  29517200.0   \n",
       "2020-01-22  167.490005  165.679993  167.399994  165.699997  24138800.0   \n",
       "2020-01-23  166.800003  165.270004  166.190002  166.720001  19680800.0   \n",
       "2020-01-24  167.529999  164.449997  167.509995  165.039993  24918100.0   \n",
       "2020-01-27  163.380005  160.199997  161.149994  162.279999  32078100.0   \n",
       "2020-01-28  165.759995  163.070007  163.779999  165.460007  24899900.0   \n",
       "2020-01-29  168.750000  165.690002  167.839996  168.039993  34754500.0   \n",
       "2020-01-30  174.050003  170.789993  174.050003  172.779999  51597500.0   \n",
       "2020-01-31  172.399994  169.580002  172.210007  170.229996  36142700.0   \n",
       "\n",
       "             Adj Close  \n",
       "Date                    \n",
       "2020-01-02  157.615112  \n",
       "2020-01-03  155.652542  \n",
       "2020-01-06  156.054871  \n",
       "2020-01-07  154.631989  \n",
       "2020-01-08  157.095047  \n",
       "2020-01-09  159.057602  \n",
       "2020-01-10  158.321640  \n",
       "2020-01-13  160.225342  \n",
       "2020-01-14  159.096863  \n",
       "2020-01-15  160.127213  \n",
       "2020-01-16  163.061295  \n",
       "2020-01-17  163.973892  \n",
       "2020-01-21  163.385101  \n",
       "2020-01-22  162.600082  \n",
       "2020-01-23  163.600998  \n",
       "2020-01-24  161.952423  \n",
       "2020-01-27  159.244049  \n",
       "2020-01-28  162.364563  \n",
       "2020-01-29  164.896301  \n",
       "2020-01-30  169.547623  \n",
       "2020-01-31  167.045319  "
      ]
     },
     "execution_count": 17,
     "metadata": {},
     "output_type": "execute_result"
    }
   ],
   "source": [
    "stocks.truncate(before='2020-01-01',after='2020-01-31')"
   ]
  },
  {
   "cell_type": "code",
   "execution_count": 19,
   "id": "7e4f4c7f",
   "metadata": {},
   "outputs": [],
   "source": [
    "#microsoft srock on my birthday\n",
    "birth = pd.date_range(start='1997-10-01',end='2020-12-31',freq=pd.DateOffset(years = 1))"
   ]
  },
  {
   "cell_type": "code",
   "execution_count": 24,
   "id": "5e227fc5",
   "metadata": {},
   "outputs": [],
   "source": [
    "births = stocks.index.isin(birth)"
   ]
  },
  {
   "cell_type": "code",
   "execution_count": 25,
   "id": "e64f3dff",
   "metadata": {},
   "outputs": [
    {
     "data": {
      "text/html": [
       "<div>\n",
       "<style scoped>\n",
       "    .dataframe tbody tr th:only-of-type {\n",
       "        vertical-align: middle;\n",
       "    }\n",
       "\n",
       "    .dataframe tbody tr th {\n",
       "        vertical-align: top;\n",
       "    }\n",
       "\n",
       "    .dataframe thead th {\n",
       "        text-align: right;\n",
       "    }\n",
       "</style>\n",
       "<table border=\"1\" class=\"dataframe\">\n",
       "  <thead>\n",
       "    <tr style=\"text-align: right;\">\n",
       "      <th></th>\n",
       "      <th>High</th>\n",
       "      <th>Low</th>\n",
       "      <th>Open</th>\n",
       "      <th>Close</th>\n",
       "      <th>Volume</th>\n",
       "      <th>Adj Close</th>\n",
       "    </tr>\n",
       "    <tr>\n",
       "      <th>Date</th>\n",
       "      <th></th>\n",
       "      <th></th>\n",
       "      <th></th>\n",
       "      <th></th>\n",
       "      <th></th>\n",
       "      <th></th>\n",
       "    </tr>\n",
       "  </thead>\n",
       "  <tbody>\n",
       "    <tr>\n",
       "      <th>2010-10-01</th>\n",
       "      <td>24.820000</td>\n",
       "      <td>24.299999</td>\n",
       "      <td>24.770000</td>\n",
       "      <td>24.379999</td>\n",
       "      <td>62672300.0</td>\n",
       "      <td>19.105276</td>\n",
       "    </tr>\n",
       "    <tr>\n",
       "      <th>2012-10-01</th>\n",
       "      <td>29.980000</td>\n",
       "      <td>29.420000</td>\n",
       "      <td>29.809999</td>\n",
       "      <td>29.490000</td>\n",
       "      <td>54042700.0</td>\n",
       "      <td>24.344442</td>\n",
       "    </tr>\n",
       "    <tr>\n",
       "      <th>2013-10-01</th>\n",
       "      <td>33.610001</td>\n",
       "      <td>33.299999</td>\n",
       "      <td>33.349998</td>\n",
       "      <td>33.580002</td>\n",
       "      <td>36718700.0</td>\n",
       "      <td>28.577549</td>\n",
       "    </tr>\n",
       "    <tr>\n",
       "      <th>2014-10-01</th>\n",
       "      <td>46.529999</td>\n",
       "      <td>45.849998</td>\n",
       "      <td>46.270000</td>\n",
       "      <td>45.900002</td>\n",
       "      <td>38088400.0</td>\n",
       "      <td>40.182777</td>\n",
       "    </tr>\n",
       "    <tr>\n",
       "      <th>2015-10-01</th>\n",
       "      <td>44.750000</td>\n",
       "      <td>43.750000</td>\n",
       "      <td>44.750000</td>\n",
       "      <td>44.610001</td>\n",
       "      <td>28657900.0</td>\n",
       "      <td>40.099373</td>\n",
       "    </tr>\n",
       "    <tr>\n",
       "      <th>2018-10-01</th>\n",
       "      <td>115.680000</td>\n",
       "      <td>114.730003</td>\n",
       "      <td>114.750000</td>\n",
       "      <td>115.610001</td>\n",
       "      <td>18883100.0</td>\n",
       "      <td>111.313293</td>\n",
       "    </tr>\n",
       "    <tr>\n",
       "      <th>2019-10-01</th>\n",
       "      <td>140.250000</td>\n",
       "      <td>137.000000</td>\n",
       "      <td>139.660004</td>\n",
       "      <td>137.070007</td>\n",
       "      <td>21466600.0</td>\n",
       "      <td>134.049576</td>\n",
       "    </tr>\n",
       "    <tr>\n",
       "      <th>2020-10-01</th>\n",
       "      <td>213.990005</td>\n",
       "      <td>211.320007</td>\n",
       "      <td>213.490005</td>\n",
       "      <td>212.460007</td>\n",
       "      <td>27158400.0</td>\n",
       "      <td>210.143738</td>\n",
       "    </tr>\n",
       "  </tbody>\n",
       "</table>\n",
       "</div>"
      ],
      "text/plain": [
       "                  High         Low        Open       Close      Volume  \\\n",
       "Date                                                                     \n",
       "2010-10-01   24.820000   24.299999   24.770000   24.379999  62672300.0   \n",
       "2012-10-01   29.980000   29.420000   29.809999   29.490000  54042700.0   \n",
       "2013-10-01   33.610001   33.299999   33.349998   33.580002  36718700.0   \n",
       "2014-10-01   46.529999   45.849998   46.270000   45.900002  38088400.0   \n",
       "2015-10-01   44.750000   43.750000   44.750000   44.610001  28657900.0   \n",
       "2018-10-01  115.680000  114.730003  114.750000  115.610001  18883100.0   \n",
       "2019-10-01  140.250000  137.000000  139.660004  137.070007  21466600.0   \n",
       "2020-10-01  213.990005  211.320007  213.490005  212.460007  27158400.0   \n",
       "\n",
       "             Adj Close  \n",
       "Date                    \n",
       "2010-10-01   19.105276  \n",
       "2012-10-01   24.344442  \n",
       "2013-10-01   28.577549  \n",
       "2014-10-01   40.182777  \n",
       "2015-10-01   40.099373  \n",
       "2018-10-01  111.313293  \n",
       "2019-10-01  134.049576  \n",
       "2020-10-01  210.143738  "
      ]
     },
     "execution_count": 25,
     "metadata": {},
     "output_type": "execute_result"
    }
   ],
   "source": [
    "stocks[births]"
   ]
  },
  {
   "cell_type": "code",
   "execution_count": 27,
   "id": "afb75e84",
   "metadata": {},
   "outputs": [
    {
     "data": {
      "text/plain": [
       "Timestamp('2011-12-23 00:00:00')"
      ]
     },
     "execution_count": 27,
     "metadata": {},
     "output_type": "execute_result"
    }
   ],
   "source": [
    "someday = stocks.index[500]\n",
    "someday"
   ]
  },
  {
   "cell_type": "code",
   "execution_count": 34,
   "id": "ddad1826",
   "metadata": {},
   "outputs": [
    {
     "data": {
      "text/plain": [
       "'Friday'"
      ]
     },
     "execution_count": 34,
     "metadata": {},
     "output_type": "execute_result"
    }
   ],
   "source": [
    "someday.month\n",
    "someday.day\n",
    "someday.is_month_start\n",
    "someday.month_name()\n",
    "someday.day_name()"
   ]
  },
  {
   "cell_type": "code",
   "execution_count": 18,
   "id": "dec06a4a",
   "metadata": {},
   "outputs": [
    {
     "data": {
      "text/plain": [
       "Index(['Thursday', 'Monday', 'Tuesday', 'Wednesday', 'Thursday', 'Friday',\n",
       "       'Monday', 'Tuesday', 'Wednesday', 'Thursday',\n",
       "       ...\n",
       "       'Thursday', 'Friday', 'Monday', 'Tuesday', 'Wednesday', 'Thursday',\n",
       "       'Monday', 'Tuesday', 'Wednesday', 'Thursday'],\n",
       "      dtype='object', name='Date', length=2770)"
      ]
     },
     "execution_count": 18,
     "metadata": {},
     "output_type": "execute_result"
    }
   ],
   "source": [
    "dn = stocks.index.day_name()\n",
    "dn"
   ]
  },
  {
   "cell_type": "code",
   "execution_count": 17,
   "id": "0069fee3",
   "metadata": {},
   "outputs": [
    {
     "data": {
      "text/html": [
       "<div>\n",
       "<style scoped>\n",
       "    .dataframe tbody tr th:only-of-type {\n",
       "        vertical-align: middle;\n",
       "    }\n",
       "\n",
       "    .dataframe tbody tr th {\n",
       "        vertical-align: top;\n",
       "    }\n",
       "\n",
       "    .dataframe thead th {\n",
       "        text-align: right;\n",
       "    }\n",
       "</style>\n",
       "<table border=\"1\" class=\"dataframe\">\n",
       "  <thead>\n",
       "    <tr style=\"text-align: right;\">\n",
       "      <th></th>\n",
       "      <th>High</th>\n",
       "      <th>Low</th>\n",
       "      <th>Dayss</th>\n",
       "      <th>Days</th>\n",
       "      <th>Open</th>\n",
       "      <th>Close</th>\n",
       "      <th>Volume</th>\n",
       "      <th>Adj Close</th>\n",
       "    </tr>\n",
       "    <tr>\n",
       "      <th>Date</th>\n",
       "      <th></th>\n",
       "      <th></th>\n",
       "      <th></th>\n",
       "      <th></th>\n",
       "      <th></th>\n",
       "      <th></th>\n",
       "      <th></th>\n",
       "      <th></th>\n",
       "    </tr>\n",
       "  </thead>\n",
       "  <tbody>\n",
       "    <tr>\n",
       "      <th>2009-12-31</th>\n",
       "      <td>30.990000</td>\n",
       "      <td>30.480000</td>\n",
       "      <td>Thursday</td>\n",
       "      <td>Thursday</td>\n",
       "      <td>30.980000</td>\n",
       "      <td>30.480000</td>\n",
       "      <td>31929700.0</td>\n",
       "      <td>23.541965</td>\n",
       "    </tr>\n",
       "    <tr>\n",
       "      <th>2010-01-04</th>\n",
       "      <td>31.100000</td>\n",
       "      <td>30.590000</td>\n",
       "      <td>Monday</td>\n",
       "      <td>Monday</td>\n",
       "      <td>30.620001</td>\n",
       "      <td>30.950001</td>\n",
       "      <td>38409100.0</td>\n",
       "      <td>23.904978</td>\n",
       "    </tr>\n",
       "    <tr>\n",
       "      <th>2010-01-05</th>\n",
       "      <td>31.100000</td>\n",
       "      <td>30.639999</td>\n",
       "      <td>Tuesday</td>\n",
       "      <td>Tuesday</td>\n",
       "      <td>30.850000</td>\n",
       "      <td>30.959999</td>\n",
       "      <td>49749600.0</td>\n",
       "      <td>23.912704</td>\n",
       "    </tr>\n",
       "    <tr>\n",
       "      <th>2010-01-06</th>\n",
       "      <td>31.080000</td>\n",
       "      <td>30.520000</td>\n",
       "      <td>Wednesday</td>\n",
       "      <td>Wednesday</td>\n",
       "      <td>30.879999</td>\n",
       "      <td>30.770000</td>\n",
       "      <td>58182400.0</td>\n",
       "      <td>23.765951</td>\n",
       "    </tr>\n",
       "    <tr>\n",
       "      <th>2010-01-07</th>\n",
       "      <td>30.700001</td>\n",
       "      <td>30.190001</td>\n",
       "      <td>Thursday</td>\n",
       "      <td>Thursday</td>\n",
       "      <td>30.629999</td>\n",
       "      <td>30.450001</td>\n",
       "      <td>50559700.0</td>\n",
       "      <td>23.518799</td>\n",
       "    </tr>\n",
       "    <tr>\n",
       "      <th>...</th>\n",
       "      <td>...</td>\n",
       "      <td>...</td>\n",
       "      <td>...</td>\n",
       "      <td>...</td>\n",
       "      <td>...</td>\n",
       "      <td>...</td>\n",
       "      <td>...</td>\n",
       "      <td>...</td>\n",
       "    </tr>\n",
       "    <tr>\n",
       "      <th>2020-12-24</th>\n",
       "      <td>223.610001</td>\n",
       "      <td>221.199997</td>\n",
       "      <td>Thursday</td>\n",
       "      <td>Thursday</td>\n",
       "      <td>221.419998</td>\n",
       "      <td>222.750000</td>\n",
       "      <td>10550600.0</td>\n",
       "      <td>220.898376</td>\n",
       "    </tr>\n",
       "    <tr>\n",
       "      <th>2020-12-28</th>\n",
       "      <td>226.029999</td>\n",
       "      <td>223.020004</td>\n",
       "      <td>Monday</td>\n",
       "      <td>Monday</td>\n",
       "      <td>224.449997</td>\n",
       "      <td>224.960007</td>\n",
       "      <td>17933500.0</td>\n",
       "      <td>223.089981</td>\n",
       "    </tr>\n",
       "    <tr>\n",
       "      <th>2020-12-29</th>\n",
       "      <td>227.179993</td>\n",
       "      <td>223.580002</td>\n",
       "      <td>Tuesday</td>\n",
       "      <td>Tuesday</td>\n",
       "      <td>226.309998</td>\n",
       "      <td>224.149994</td>\n",
       "      <td>17403200.0</td>\n",
       "      <td>222.286713</td>\n",
       "    </tr>\n",
       "    <tr>\n",
       "      <th>2020-12-30</th>\n",
       "      <td>225.630005</td>\n",
       "      <td>221.470001</td>\n",
       "      <td>Wednesday</td>\n",
       "      <td>Wednesday</td>\n",
       "      <td>225.229996</td>\n",
       "      <td>221.679993</td>\n",
       "      <td>20272300.0</td>\n",
       "      <td>219.837250</td>\n",
       "    </tr>\n",
       "    <tr>\n",
       "      <th>2020-12-31</th>\n",
       "      <td>223.000000</td>\n",
       "      <td>219.679993</td>\n",
       "      <td>Thursday</td>\n",
       "      <td>Thursday</td>\n",
       "      <td>221.699997</td>\n",
       "      <td>222.419998</td>\n",
       "      <td>20942100.0</td>\n",
       "      <td>220.571106</td>\n",
       "    </tr>\n",
       "  </tbody>\n",
       "</table>\n",
       "<p>2770 rows × 8 columns</p>\n",
       "</div>"
      ],
      "text/plain": [
       "                  High         Low      Dayss       Days        Open  \\\n",
       "Date                                                                   \n",
       "2009-12-31   30.990000   30.480000   Thursday   Thursday   30.980000   \n",
       "2010-01-04   31.100000   30.590000     Monday     Monday   30.620001   \n",
       "2010-01-05   31.100000   30.639999    Tuesday    Tuesday   30.850000   \n",
       "2010-01-06   31.080000   30.520000  Wednesday  Wednesday   30.879999   \n",
       "2010-01-07   30.700001   30.190001   Thursday   Thursday   30.629999   \n",
       "...                ...         ...        ...        ...         ...   \n",
       "2020-12-24  223.610001  221.199997   Thursday   Thursday  221.419998   \n",
       "2020-12-28  226.029999  223.020004     Monday     Monday  224.449997   \n",
       "2020-12-29  227.179993  223.580002    Tuesday    Tuesday  226.309998   \n",
       "2020-12-30  225.630005  221.470001  Wednesday  Wednesday  225.229996   \n",
       "2020-12-31  223.000000  219.679993   Thursday   Thursday  221.699997   \n",
       "\n",
       "                 Close      Volume   Adj Close  \n",
       "Date                                            \n",
       "2009-12-31   30.480000  31929700.0   23.541965  \n",
       "2010-01-04   30.950001  38409100.0   23.904978  \n",
       "2010-01-05   30.959999  49749600.0   23.912704  \n",
       "2010-01-06   30.770000  58182400.0   23.765951  \n",
       "2010-01-07   30.450001  50559700.0   23.518799  \n",
       "...                ...         ...         ...  \n",
       "2020-12-24  222.750000  10550600.0  220.898376  \n",
       "2020-12-28  224.960007  17933500.0  223.089981  \n",
       "2020-12-29  224.149994  17403200.0  222.286713  \n",
       "2020-12-30  221.679993  20272300.0  219.837250  \n",
       "2020-12-31  222.419998  20942100.0  220.571106  \n",
       "\n",
       "[2770 rows x 8 columns]"
      ]
     },
     "execution_count": 17,
     "metadata": {},
     "output_type": "execute_result"
    }
   ],
   "source": [
    "stocks.insert(2,column='Dayss',value=dn)\n",
    "\n",
    "stocks"
   ]
  },
  {
   "cell_type": "code",
   "execution_count": 40,
   "id": "64944b26",
   "metadata": {},
   "outputs": [],
   "source": [
    "stocks.insert(2,column='Start of month',value=stocks.index.is_month_start)"
   ]
  },
  {
   "cell_type": "code",
   "execution_count": 44,
   "id": "bd615ec9",
   "metadata": {},
   "outputs": [
    {
     "data": {
      "text/html": [
       "<div>\n",
       "<style scoped>\n",
       "    .dataframe tbody tr th:only-of-type {\n",
       "        vertical-align: middle;\n",
       "    }\n",
       "\n",
       "    .dataframe tbody tr th {\n",
       "        vertical-align: top;\n",
       "    }\n",
       "\n",
       "    .dataframe thead th {\n",
       "        text-align: right;\n",
       "    }\n",
       "</style>\n",
       "<table border=\"1\" class=\"dataframe\">\n",
       "  <thead>\n",
       "    <tr style=\"text-align: right;\">\n",
       "      <th></th>\n",
       "      <th>High</th>\n",
       "      <th>Days</th>\n",
       "      <th>Start of month</th>\n",
       "      <th>Low</th>\n",
       "      <th>Open</th>\n",
       "      <th>Close</th>\n",
       "      <th>Volume</th>\n",
       "      <th>Adj Close</th>\n",
       "    </tr>\n",
       "    <tr>\n",
       "      <th>Date</th>\n",
       "      <th></th>\n",
       "      <th></th>\n",
       "      <th></th>\n",
       "      <th></th>\n",
       "      <th></th>\n",
       "      <th></th>\n",
       "      <th></th>\n",
       "      <th></th>\n",
       "    </tr>\n",
       "  </thead>\n",
       "  <tbody>\n",
       "    <tr>\n",
       "      <th>2010-02-01</th>\n",
       "      <td>28.480000</td>\n",
       "      <td>Monday</td>\n",
       "      <td>True</td>\n",
       "      <td>27.920000</td>\n",
       "      <td>28.389999</td>\n",
       "      <td>28.410000</td>\n",
       "      <td>85931100.0</td>\n",
       "      <td>21.943148</td>\n",
       "    </tr>\n",
       "    <tr>\n",
       "      <th>2010-03-01</th>\n",
       "      <td>29.049999</td>\n",
       "      <td>Monday</td>\n",
       "      <td>True</td>\n",
       "      <td>28.530001</td>\n",
       "      <td>28.770000</td>\n",
       "      <td>29.020000</td>\n",
       "      <td>43805400.0</td>\n",
       "      <td>22.519114</td>\n",
       "    </tr>\n",
       "    <tr>\n",
       "      <th>2010-04-01</th>\n",
       "      <td>29.540001</td>\n",
       "      <td>Thursday</td>\n",
       "      <td>True</td>\n",
       "      <td>28.620001</td>\n",
       "      <td>29.350000</td>\n",
       "      <td>29.160000</td>\n",
       "      <td>74768100.0</td>\n",
       "      <td>22.627758</td>\n",
       "    </tr>\n",
       "    <tr>\n",
       "      <th>2010-06-01</th>\n",
       "      <td>26.309999</td>\n",
       "      <td>Tuesday</td>\n",
       "      <td>True</td>\n",
       "      <td>25.520000</td>\n",
       "      <td>25.530001</td>\n",
       "      <td>25.889999</td>\n",
       "      <td>76152400.0</td>\n",
       "      <td>20.180937</td>\n",
       "    </tr>\n",
       "    <tr>\n",
       "      <th>2010-07-01</th>\n",
       "      <td>23.320000</td>\n",
       "      <td>Thursday</td>\n",
       "      <td>True</td>\n",
       "      <td>22.730000</td>\n",
       "      <td>23.090000</td>\n",
       "      <td>23.160000</td>\n",
       "      <td>92239400.0</td>\n",
       "      <td>18.052935</td>\n",
       "    </tr>\n",
       "    <tr>\n",
       "      <th>...</th>\n",
       "      <td>...</td>\n",
       "      <td>...</td>\n",
       "      <td>...</td>\n",
       "      <td>...</td>\n",
       "      <td>...</td>\n",
       "      <td>...</td>\n",
       "      <td>...</td>\n",
       "      <td>...</td>\n",
       "    </tr>\n",
       "    <tr>\n",
       "      <th>2020-06-01</th>\n",
       "      <td>183.000000</td>\n",
       "      <td>Monday</td>\n",
       "      <td>True</td>\n",
       "      <td>181.460007</td>\n",
       "      <td>182.539993</td>\n",
       "      <td>182.830002</td>\n",
       "      <td>22622400.0</td>\n",
       "      <td>180.400681</td>\n",
       "    </tr>\n",
       "    <tr>\n",
       "      <th>2020-07-01</th>\n",
       "      <td>206.350006</td>\n",
       "      <td>Wednesday</td>\n",
       "      <td>True</td>\n",
       "      <td>201.770004</td>\n",
       "      <td>203.139999</td>\n",
       "      <td>204.699997</td>\n",
       "      <td>32061200.0</td>\n",
       "      <td>201.980087</td>\n",
       "    </tr>\n",
       "    <tr>\n",
       "      <th>2020-09-01</th>\n",
       "      <td>227.449997</td>\n",
       "      <td>Tuesday</td>\n",
       "      <td>True</td>\n",
       "      <td>224.429993</td>\n",
       "      <td>225.509995</td>\n",
       "      <td>227.270004</td>\n",
       "      <td>25725500.0</td>\n",
       "      <td>224.792267</td>\n",
       "    </tr>\n",
       "    <tr>\n",
       "      <th>2020-10-01</th>\n",
       "      <td>213.990005</td>\n",
       "      <td>Thursday</td>\n",
       "      <td>True</td>\n",
       "      <td>211.320007</td>\n",
       "      <td>213.490005</td>\n",
       "      <td>212.460007</td>\n",
       "      <td>27158400.0</td>\n",
       "      <td>210.143738</td>\n",
       "    </tr>\n",
       "    <tr>\n",
       "      <th>2020-12-01</th>\n",
       "      <td>217.320007</td>\n",
       "      <td>Tuesday</td>\n",
       "      <td>True</td>\n",
       "      <td>213.350006</td>\n",
       "      <td>214.509995</td>\n",
       "      <td>216.210007</td>\n",
       "      <td>30904500.0</td>\n",
       "      <td>214.412735</td>\n",
       "    </tr>\n",
       "  </tbody>\n",
       "</table>\n",
       "<p>85 rows × 8 columns</p>\n",
       "</div>"
      ],
      "text/plain": [
       "                  High       Days  Start of month         Low        Open  \\\n",
       "Date                                                                        \n",
       "2010-02-01   28.480000     Monday            True   27.920000   28.389999   \n",
       "2010-03-01   29.049999     Monday            True   28.530001   28.770000   \n",
       "2010-04-01   29.540001   Thursday            True   28.620001   29.350000   \n",
       "2010-06-01   26.309999    Tuesday            True   25.520000   25.530001   \n",
       "2010-07-01   23.320000   Thursday            True   22.730000   23.090000   \n",
       "...                ...        ...             ...         ...         ...   \n",
       "2020-06-01  183.000000     Monday            True  181.460007  182.539993   \n",
       "2020-07-01  206.350006  Wednesday            True  201.770004  203.139999   \n",
       "2020-09-01  227.449997    Tuesday            True  224.429993  225.509995   \n",
       "2020-10-01  213.990005   Thursday            True  211.320007  213.490005   \n",
       "2020-12-01  217.320007    Tuesday            True  213.350006  214.509995   \n",
       "\n",
       "                 Close      Volume   Adj Close  \n",
       "Date                                            \n",
       "2010-02-01   28.410000  85931100.0   21.943148  \n",
       "2010-03-01   29.020000  43805400.0   22.519114  \n",
       "2010-04-01   29.160000  74768100.0   22.627758  \n",
       "2010-06-01   25.889999  76152400.0   20.180937  \n",
       "2010-07-01   23.160000  92239400.0   18.052935  \n",
       "...                ...         ...         ...  \n",
       "2020-06-01  182.830002  22622400.0  180.400681  \n",
       "2020-07-01  204.699997  32061200.0  201.980087  \n",
       "2020-09-01  227.270004  25725500.0  224.792267  \n",
       "2020-10-01  212.460007  27158400.0  210.143738  \n",
       "2020-12-01  216.210007  30904500.0  214.412735  \n",
       "\n",
       "[85 rows x 8 columns]"
      ]
     },
     "execution_count": 44,
     "metadata": {},
     "output_type": "execute_result"
    }
   ],
   "source": [
    "stocks[stocks['Start of month']]"
   ]
  },
  {
   "cell_type": "code",
   "execution_count": 45,
   "id": "a5e8aa9a",
   "metadata": {},
   "outputs": [],
   "source": [
    "#pdDataoffset"
   ]
  },
  {
   "cell_type": "code",
   "execution_count": 46,
   "id": "b27d582d",
   "metadata": {},
   "outputs": [
    {
     "data": {
      "text/html": [
       "<div>\n",
       "<style scoped>\n",
       "    .dataframe tbody tr th:only-of-type {\n",
       "        vertical-align: middle;\n",
       "    }\n",
       "\n",
       "    .dataframe tbody tr th {\n",
       "        vertical-align: top;\n",
       "    }\n",
       "\n",
       "    .dataframe thead th {\n",
       "        text-align: right;\n",
       "    }\n",
       "</style>\n",
       "<table border=\"1\" class=\"dataframe\">\n",
       "  <thead>\n",
       "    <tr style=\"text-align: right;\">\n",
       "      <th></th>\n",
       "      <th>High</th>\n",
       "      <th>Low</th>\n",
       "      <th>Open</th>\n",
       "      <th>Close</th>\n",
       "      <th>Volume</th>\n",
       "      <th>Adj Close</th>\n",
       "    </tr>\n",
       "    <tr>\n",
       "      <th>Date</th>\n",
       "      <th></th>\n",
       "      <th></th>\n",
       "      <th></th>\n",
       "      <th></th>\n",
       "      <th></th>\n",
       "      <th></th>\n",
       "    </tr>\n",
       "  </thead>\n",
       "  <tbody>\n",
       "    <tr>\n",
       "      <th>2009-12-31</th>\n",
       "      <td>30.990000</td>\n",
       "      <td>30.480000</td>\n",
       "      <td>30.980000</td>\n",
       "      <td>30.480000</td>\n",
       "      <td>31929700.0</td>\n",
       "      <td>23.541969</td>\n",
       "    </tr>\n",
       "    <tr>\n",
       "      <th>2010-01-04</th>\n",
       "      <td>31.100000</td>\n",
       "      <td>30.590000</td>\n",
       "      <td>30.620001</td>\n",
       "      <td>30.950001</td>\n",
       "      <td>38409100.0</td>\n",
       "      <td>23.904987</td>\n",
       "    </tr>\n",
       "    <tr>\n",
       "      <th>2010-01-05</th>\n",
       "      <td>31.100000</td>\n",
       "      <td>30.639999</td>\n",
       "      <td>30.850000</td>\n",
       "      <td>30.959999</td>\n",
       "      <td>49749600.0</td>\n",
       "      <td>23.912706</td>\n",
       "    </tr>\n",
       "    <tr>\n",
       "      <th>2010-01-06</th>\n",
       "      <td>31.080000</td>\n",
       "      <td>30.520000</td>\n",
       "      <td>30.879999</td>\n",
       "      <td>30.770000</td>\n",
       "      <td>58182400.0</td>\n",
       "      <td>23.765957</td>\n",
       "    </tr>\n",
       "    <tr>\n",
       "      <th>2010-01-07</th>\n",
       "      <td>30.700001</td>\n",
       "      <td>30.190001</td>\n",
       "      <td>30.629999</td>\n",
       "      <td>30.450001</td>\n",
       "      <td>50559700.0</td>\n",
       "      <td>23.518797</td>\n",
       "    </tr>\n",
       "    <tr>\n",
       "      <th>...</th>\n",
       "      <td>...</td>\n",
       "      <td>...</td>\n",
       "      <td>...</td>\n",
       "      <td>...</td>\n",
       "      <td>...</td>\n",
       "      <td>...</td>\n",
       "    </tr>\n",
       "    <tr>\n",
       "      <th>2020-12-24</th>\n",
       "      <td>223.610001</td>\n",
       "      <td>221.199997</td>\n",
       "      <td>221.419998</td>\n",
       "      <td>222.750000</td>\n",
       "      <td>10550600.0</td>\n",
       "      <td>220.898361</td>\n",
       "    </tr>\n",
       "    <tr>\n",
       "      <th>2020-12-28</th>\n",
       "      <td>226.029999</td>\n",
       "      <td>223.020004</td>\n",
       "      <td>224.449997</td>\n",
       "      <td>224.960007</td>\n",
       "      <td>17933500.0</td>\n",
       "      <td>223.089996</td>\n",
       "    </tr>\n",
       "    <tr>\n",
       "      <th>2020-12-29</th>\n",
       "      <td>227.179993</td>\n",
       "      <td>223.580002</td>\n",
       "      <td>226.309998</td>\n",
       "      <td>224.149994</td>\n",
       "      <td>17403200.0</td>\n",
       "      <td>222.286728</td>\n",
       "    </tr>\n",
       "    <tr>\n",
       "      <th>2020-12-30</th>\n",
       "      <td>225.630005</td>\n",
       "      <td>221.470001</td>\n",
       "      <td>225.229996</td>\n",
       "      <td>221.679993</td>\n",
       "      <td>20272300.0</td>\n",
       "      <td>219.837234</td>\n",
       "    </tr>\n",
       "    <tr>\n",
       "      <th>2020-12-31</th>\n",
       "      <td>223.000000</td>\n",
       "      <td>219.679993</td>\n",
       "      <td>221.699997</td>\n",
       "      <td>222.419998</td>\n",
       "      <td>20942100.0</td>\n",
       "      <td>220.571106</td>\n",
       "    </tr>\n",
       "  </tbody>\n",
       "</table>\n",
       "<p>2770 rows × 6 columns</p>\n",
       "</div>"
      ],
      "text/plain": [
       "                  High         Low        Open       Close      Volume  \\\n",
       "Date                                                                     \n",
       "2009-12-31   30.990000   30.480000   30.980000   30.480000  31929700.0   \n",
       "2010-01-04   31.100000   30.590000   30.620001   30.950001  38409100.0   \n",
       "2010-01-05   31.100000   30.639999   30.850000   30.959999  49749600.0   \n",
       "2010-01-06   31.080000   30.520000   30.879999   30.770000  58182400.0   \n",
       "2010-01-07   30.700001   30.190001   30.629999   30.450001  50559700.0   \n",
       "...                ...         ...         ...         ...         ...   \n",
       "2020-12-24  223.610001  221.199997  221.419998  222.750000  10550600.0   \n",
       "2020-12-28  226.029999  223.020004  224.449997  224.960007  17933500.0   \n",
       "2020-12-29  227.179993  223.580002  226.309998  224.149994  17403200.0   \n",
       "2020-12-30  225.630005  221.470001  225.229996  221.679993  20272300.0   \n",
       "2020-12-31  223.000000  219.679993  221.699997  222.419998  20942100.0   \n",
       "\n",
       "             Adj Close  \n",
       "Date                    \n",
       "2009-12-31   23.541969  \n",
       "2010-01-04   23.904987  \n",
       "2010-01-05   23.912706  \n",
       "2010-01-06   23.765957  \n",
       "2010-01-07   23.518797  \n",
       "...                ...  \n",
       "2020-12-24  220.898361  \n",
       "2020-12-28  223.089996  \n",
       "2020-12-29  222.286728  \n",
       "2020-12-30  219.837234  \n",
       "2020-12-31  220.571106  \n",
       "\n",
       "[2770 rows x 6 columns]"
      ]
     },
     "execution_count": 46,
     "metadata": {},
     "output_type": "execute_result"
    }
   ],
   "source": [
    "stocks2 = data.DataReader(name='MSFT',data_source='yahoo',start='2010-01-01',end='2020-12-31')\n",
    "stocks2"
   ]
  },
  {
   "cell_type": "code",
   "execution_count": 47,
   "id": "1c9ac1ad",
   "metadata": {},
   "outputs": [
    {
     "data": {
      "text/plain": [
       "DatetimeIndex(['2010-01-05', '2010-01-09', '2010-01-10', '2010-01-11',\n",
       "               '2010-01-12', '2010-01-13', '2010-01-16', '2010-01-17',\n",
       "               '2010-01-18', '2010-01-19',\n",
       "               ...\n",
       "               '2020-12-22', '2020-12-23', '2020-12-26', '2020-12-27',\n",
       "               '2020-12-28', '2020-12-29', '2021-01-02', '2021-01-03',\n",
       "               '2021-01-04', '2021-01-05'],\n",
       "              dtype='datetime64[ns]', name='Date', length=2770, freq=None)"
      ]
     },
     "execution_count": 47,
     "metadata": {},
     "output_type": "execute_result"
    }
   ],
   "source": [
    "stocks2.index + pd.DateOffset(days = 5)#years,weeks, months,days,hours,minutes can all be use together"
   ]
  },
  {
   "cell_type": "code",
   "execution_count": 48,
   "id": "3a3b64eb",
   "metadata": {},
   "outputs": [
    {
     "data": {
      "text/html": [
       "<div>\n",
       "<style scoped>\n",
       "    .dataframe tbody tr th:only-of-type {\n",
       "        vertical-align: middle;\n",
       "    }\n",
       "\n",
       "    .dataframe tbody tr th {\n",
       "        vertical-align: top;\n",
       "    }\n",
       "\n",
       "    .dataframe thead th {\n",
       "        text-align: right;\n",
       "    }\n",
       "</style>\n",
       "<table border=\"1\" class=\"dataframe\">\n",
       "  <thead>\n",
       "    <tr style=\"text-align: right;\">\n",
       "      <th></th>\n",
       "      <th>High</th>\n",
       "      <th>Low</th>\n",
       "      <th>Open</th>\n",
       "      <th>Close</th>\n",
       "      <th>Volume</th>\n",
       "      <th>Adj Close</th>\n",
       "    </tr>\n",
       "    <tr>\n",
       "      <th>Date</th>\n",
       "      <th></th>\n",
       "      <th></th>\n",
       "      <th></th>\n",
       "      <th></th>\n",
       "      <th></th>\n",
       "      <th></th>\n",
       "    </tr>\n",
       "  </thead>\n",
       "  <tbody>\n",
       "    <tr>\n",
       "      <th>2010-01-05</th>\n",
       "      <td>30.990000</td>\n",
       "      <td>30.480000</td>\n",
       "      <td>30.980000</td>\n",
       "      <td>30.480000</td>\n",
       "      <td>31929700.0</td>\n",
       "      <td>23.541969</td>\n",
       "    </tr>\n",
       "    <tr>\n",
       "      <th>2010-01-09</th>\n",
       "      <td>31.100000</td>\n",
       "      <td>30.590000</td>\n",
       "      <td>30.620001</td>\n",
       "      <td>30.950001</td>\n",
       "      <td>38409100.0</td>\n",
       "      <td>23.904987</td>\n",
       "    </tr>\n",
       "    <tr>\n",
       "      <th>2010-01-10</th>\n",
       "      <td>31.100000</td>\n",
       "      <td>30.639999</td>\n",
       "      <td>30.850000</td>\n",
       "      <td>30.959999</td>\n",
       "      <td>49749600.0</td>\n",
       "      <td>23.912706</td>\n",
       "    </tr>\n",
       "    <tr>\n",
       "      <th>2010-01-11</th>\n",
       "      <td>31.080000</td>\n",
       "      <td>30.520000</td>\n",
       "      <td>30.879999</td>\n",
       "      <td>30.770000</td>\n",
       "      <td>58182400.0</td>\n",
       "      <td>23.765957</td>\n",
       "    </tr>\n",
       "    <tr>\n",
       "      <th>2010-01-12</th>\n",
       "      <td>30.700001</td>\n",
       "      <td>30.190001</td>\n",
       "      <td>30.629999</td>\n",
       "      <td>30.450001</td>\n",
       "      <td>50559700.0</td>\n",
       "      <td>23.518797</td>\n",
       "    </tr>\n",
       "    <tr>\n",
       "      <th>...</th>\n",
       "      <td>...</td>\n",
       "      <td>...</td>\n",
       "      <td>...</td>\n",
       "      <td>...</td>\n",
       "      <td>...</td>\n",
       "      <td>...</td>\n",
       "    </tr>\n",
       "    <tr>\n",
       "      <th>2020-12-29</th>\n",
       "      <td>223.610001</td>\n",
       "      <td>221.199997</td>\n",
       "      <td>221.419998</td>\n",
       "      <td>222.750000</td>\n",
       "      <td>10550600.0</td>\n",
       "      <td>220.898361</td>\n",
       "    </tr>\n",
       "    <tr>\n",
       "      <th>2021-01-02</th>\n",
       "      <td>226.029999</td>\n",
       "      <td>223.020004</td>\n",
       "      <td>224.449997</td>\n",
       "      <td>224.960007</td>\n",
       "      <td>17933500.0</td>\n",
       "      <td>223.089996</td>\n",
       "    </tr>\n",
       "    <tr>\n",
       "      <th>2021-01-03</th>\n",
       "      <td>227.179993</td>\n",
       "      <td>223.580002</td>\n",
       "      <td>226.309998</td>\n",
       "      <td>224.149994</td>\n",
       "      <td>17403200.0</td>\n",
       "      <td>222.286728</td>\n",
       "    </tr>\n",
       "    <tr>\n",
       "      <th>2021-01-04</th>\n",
       "      <td>225.630005</td>\n",
       "      <td>221.470001</td>\n",
       "      <td>225.229996</td>\n",
       "      <td>221.679993</td>\n",
       "      <td>20272300.0</td>\n",
       "      <td>219.837234</td>\n",
       "    </tr>\n",
       "    <tr>\n",
       "      <th>2021-01-05</th>\n",
       "      <td>223.000000</td>\n",
       "      <td>219.679993</td>\n",
       "      <td>221.699997</td>\n",
       "      <td>222.419998</td>\n",
       "      <td>20942100.0</td>\n",
       "      <td>220.571106</td>\n",
       "    </tr>\n",
       "  </tbody>\n",
       "</table>\n",
       "<p>2770 rows × 6 columns</p>\n",
       "</div>"
      ],
      "text/plain": [
       "                  High         Low        Open       Close      Volume  \\\n",
       "Date                                                                     \n",
       "2010-01-05   30.990000   30.480000   30.980000   30.480000  31929700.0   \n",
       "2010-01-09   31.100000   30.590000   30.620001   30.950001  38409100.0   \n",
       "2010-01-10   31.100000   30.639999   30.850000   30.959999  49749600.0   \n",
       "2010-01-11   31.080000   30.520000   30.879999   30.770000  58182400.0   \n",
       "2010-01-12   30.700001   30.190001   30.629999   30.450001  50559700.0   \n",
       "...                ...         ...         ...         ...         ...   \n",
       "2020-12-29  223.610001  221.199997  221.419998  222.750000  10550600.0   \n",
       "2021-01-02  226.029999  223.020004  224.449997  224.960007  17933500.0   \n",
       "2021-01-03  227.179993  223.580002  226.309998  224.149994  17403200.0   \n",
       "2021-01-04  225.630005  221.470001  225.229996  221.679993  20272300.0   \n",
       "2021-01-05  223.000000  219.679993  221.699997  222.419998  20942100.0   \n",
       "\n",
       "             Adj Close  \n",
       "Date                    \n",
       "2010-01-05   23.541969  \n",
       "2010-01-09   23.904987  \n",
       "2010-01-10   23.912706  \n",
       "2010-01-11   23.765957  \n",
       "2010-01-12   23.518797  \n",
       "...                ...  \n",
       "2020-12-29  220.898361  \n",
       "2021-01-02  223.089996  \n",
       "2021-01-03  222.286728  \n",
       "2021-01-04  219.837234  \n",
       "2021-01-05  220.571106  \n",
       "\n",
       "[2770 rows x 6 columns]"
      ]
     },
     "execution_count": 48,
     "metadata": {},
     "output_type": "execute_result"
    }
   ],
   "source": [
    "stocks2.index = stocks2.index + pd.DateOffset(days = 5)\n",
    "stocks2"
   ]
  },
  {
   "cell_type": "code",
   "execution_count": 49,
   "id": "b82a1555",
   "metadata": {},
   "outputs": [],
   "source": [
    "# timeseries offset"
   ]
  },
  {
   "cell_type": "code",
   "execution_count": 50,
   "id": "cb5eec48",
   "metadata": {},
   "outputs": [
    {
     "data": {
      "text/plain": [
       "DatetimeIndex(['2010-01-31', '2010-01-31', '2010-01-31', '2010-01-31',\n",
       "               '2010-01-31', '2010-01-31', '2010-01-31', '2010-01-31',\n",
       "               '2010-01-31', '2010-01-31',\n",
       "               ...\n",
       "               '2020-12-31', '2020-12-31', '2020-12-31', '2020-12-31',\n",
       "               '2020-12-31', '2020-12-31', '2021-01-31', '2021-01-31',\n",
       "               '2021-01-31', '2021-01-31'],\n",
       "              dtype='datetime64[ns]', name='Date', length=2770, freq=None)"
      ]
     },
     "execution_count": 50,
     "metadata": {},
     "output_type": "execute_result"
    }
   ],
   "source": [
    "#from pandas.tseries import offsets\n",
    "stocks2.index + pd.tseries.offsets.MonthEnd() #note here the last date of the month will move to the next month\n",
    "#ex 2020-01-31 will be 2021-01-28\n",
    "#Bmonthend()"
   ]
  },
  {
   "cell_type": "code",
   "execution_count": 52,
   "id": "d5d7e23b",
   "metadata": {},
   "outputs": [
    {
     "data": {
      "text/plain": [
       "DatetimeIndex(['2010-02-01', '2010-02-01', '2010-02-01', '2010-02-01',\n",
       "               '2010-02-01', '2010-02-01', '2010-02-01', '2010-02-01',\n",
       "               '2010-02-01', '2010-02-01',\n",
       "               ...\n",
       "               '2021-01-01', '2021-01-01', '2021-01-01', '2021-01-01',\n",
       "               '2021-01-01', '2021-01-01', '2021-02-01', '2021-02-01',\n",
       "               '2021-02-01', '2021-02-01'],\n",
       "              dtype='datetime64[ns]', name='Date', length=2770, freq=None)"
      ]
     },
     "execution_count": 52,
     "metadata": {},
     "output_type": "execute_result"
    }
   ],
   "source": [
    "stocks2.index + pd.tseries.offsets.MonthBegin()# tagets next month"
   ]
  },
  {
   "cell_type": "code",
   "execution_count": 53,
   "id": "3ef6e7d3",
   "metadata": {},
   "outputs": [
    {
     "data": {
      "text/plain": [
       "DatetimeIndex(['2010-01-01', '2010-01-01', '2010-01-01', '2010-01-01',\n",
       "               '2010-01-01', '2010-01-01', '2010-01-01', '2010-01-01',\n",
       "               '2010-01-01', '2010-01-01',\n",
       "               ...\n",
       "               '2020-12-01', '2020-12-01', '2020-12-01', '2020-12-01',\n",
       "               '2020-12-01', '2020-12-01', '2021-01-01', '2021-01-01',\n",
       "               '2021-01-01', '2021-01-01'],\n",
       "              dtype='datetime64[ns]', name='Date', length=2770, freq=None)"
      ]
     },
     "execution_count": 53,
     "metadata": {},
     "output_type": "execute_result"
    }
   ],
   "source": [
    "stocks2.index - pd.tseries.offsets.MonthBegin()"
   ]
  },
  {
   "cell_type": "code",
   "execution_count": 54,
   "id": "182b2186",
   "metadata": {},
   "outputs": [
    {
     "data": {
      "text/plain": [
       "DatetimeIndex(['2009-12-31', '2009-12-31', '2009-12-31', '2009-12-31',\n",
       "               '2009-12-31', '2009-12-31', '2009-12-31', '2009-12-31',\n",
       "               '2009-12-31', '2009-12-31',\n",
       "               ...\n",
       "               '2020-11-30', '2020-11-30', '2020-11-30', '2020-11-30',\n",
       "               '2020-11-30', '2020-11-30', '2020-12-31', '2020-12-31',\n",
       "               '2020-12-31', '2020-12-31'],\n",
       "              dtype='datetime64[ns]', name='Date', length=2770, freq=None)"
      ]
     },
     "execution_count": 54,
     "metadata": {},
     "output_type": "execute_result"
    }
   ],
   "source": [
    "stocks2.index - pd.tseries.offsets.MonthEnd()"
   ]
  },
  {
   "cell_type": "code",
   "execution_count": 55,
   "id": "94614291",
   "metadata": {},
   "outputs": [],
   "source": [
    "#timedelta different bet. 2 time #it can be -ve"
   ]
  },
  {
   "cell_type": "code",
   "execution_count": 56,
   "id": "b3737f5c",
   "metadata": {},
   "outputs": [
    {
     "data": {
      "text/plain": [
       "Timedelta('31 days 00:00:00')"
      ]
     },
     "execution_count": 56,
     "metadata": {},
     "output_type": "execute_result"
    }
   ],
   "source": [
    "a = pd.Timestamp('2020-01-01')\n",
    "b = pd.Timestamp('2020-02-01')\n",
    "\n",
    "b-a"
   ]
  },
  {
   "cell_type": "code",
   "execution_count": 57,
   "id": "abd995b9",
   "metadata": {},
   "outputs": [
    {
     "data": {
      "text/plain": [
       "Timestamp('2020-01-04 00:00:00')"
      ]
     },
     "execution_count": 57,
     "metadata": {},
     "output_type": "execute_result"
    }
   ],
   "source": [
    "a+pd.Timedelta(days =3)"
   ]
  },
  {
   "cell_type": "code",
   "execution_count": 58,
   "id": "040125aa",
   "metadata": {},
   "outputs": [
    {
     "data": {
      "text/plain": [
       "Timedelta('61 days 00:00:00')"
      ]
     },
     "execution_count": 58,
     "metadata": {},
     "output_type": "execute_result"
    }
   ],
   "source": [
    "pd.Timedelta(weeks= 8,days=4,hours=24)"
   ]
  },
  {
   "cell_type": "code",
   "execution_count": 59,
   "id": "634c0182",
   "metadata": {},
   "outputs": [
    {
     "data": {
      "text/plain": [
       "Timedelta('0 days 00:00:05')"
      ]
     },
     "execution_count": 59,
     "metadata": {},
     "output_type": "execute_result"
    }
   ],
   "source": [
    "pd.Timedelta('5 seconds')"
   ]
  },
  {
   "cell_type": "code",
   "execution_count": 60,
   "id": "48edc7f6",
   "metadata": {},
   "outputs": [],
   "source": [
    "#timedelta in Dataset"
   ]
  },
  {
   "cell_type": "code",
   "execution_count": 63,
   "id": "d322a362",
   "metadata": {},
   "outputs": [
    {
     "data": {
      "text/html": [
       "<div>\n",
       "<style scoped>\n",
       "    .dataframe tbody tr th:only-of-type {\n",
       "        vertical-align: middle;\n",
       "    }\n",
       "\n",
       "    .dataframe tbody tr th {\n",
       "        vertical-align: top;\n",
       "    }\n",
       "\n",
       "    .dataframe thead th {\n",
       "        text-align: right;\n",
       "    }\n",
       "</style>\n",
       "<table border=\"1\" class=\"dataframe\">\n",
       "  <thead>\n",
       "    <tr style=\"text-align: right;\">\n",
       "      <th></th>\n",
       "      <th>order_date</th>\n",
       "      <th>delivery_date</th>\n",
       "    </tr>\n",
       "    <tr>\n",
       "      <th>ID</th>\n",
       "      <th></th>\n",
       "      <th></th>\n",
       "    </tr>\n",
       "  </thead>\n",
       "  <tbody>\n",
       "    <tr>\n",
       "      <th>1</th>\n",
       "      <td>1998-05-24</td>\n",
       "      <td>1999-02-05</td>\n",
       "    </tr>\n",
       "    <tr>\n",
       "      <th>2</th>\n",
       "      <td>1992-04-22</td>\n",
       "      <td>1998-03-06</td>\n",
       "    </tr>\n",
       "    <tr>\n",
       "      <th>4</th>\n",
       "      <td>1991-02-10</td>\n",
       "      <td>1992-08-26</td>\n",
       "    </tr>\n",
       "    <tr>\n",
       "      <th>5</th>\n",
       "      <td>1992-07-21</td>\n",
       "      <td>1997-11-20</td>\n",
       "    </tr>\n",
       "    <tr>\n",
       "      <th>7</th>\n",
       "      <td>1993-09-02</td>\n",
       "      <td>1998-06-10</td>\n",
       "    </tr>\n",
       "    <tr>\n",
       "      <th>...</th>\n",
       "      <td>...</td>\n",
       "      <td>...</td>\n",
       "    </tr>\n",
       "    <tr>\n",
       "      <th>990</th>\n",
       "      <td>1991-06-24</td>\n",
       "      <td>1996-02-02</td>\n",
       "    </tr>\n",
       "    <tr>\n",
       "      <th>991</th>\n",
       "      <td>1991-09-09</td>\n",
       "      <td>1998-03-30</td>\n",
       "    </tr>\n",
       "    <tr>\n",
       "      <th>993</th>\n",
       "      <td>1990-11-16</td>\n",
       "      <td>1998-04-27</td>\n",
       "    </tr>\n",
       "    <tr>\n",
       "      <th>994</th>\n",
       "      <td>1993-06-03</td>\n",
       "      <td>1993-06-13</td>\n",
       "    </tr>\n",
       "    <tr>\n",
       "      <th>997</th>\n",
       "      <td>1990-01-04</td>\n",
       "      <td>1991-10-03</td>\n",
       "    </tr>\n",
       "  </tbody>\n",
       "</table>\n",
       "<p>501 rows × 2 columns</p>\n",
       "</div>"
      ],
      "text/plain": [
       "    order_date delivery_date\n",
       "ID                          \n",
       "1   1998-05-24    1999-02-05\n",
       "2   1992-04-22    1998-03-06\n",
       "4   1991-02-10    1992-08-26\n",
       "5   1992-07-21    1997-11-20\n",
       "7   1993-09-02    1998-06-10\n",
       "..         ...           ...\n",
       "990 1991-06-24    1996-02-02\n",
       "991 1991-09-09    1998-03-30\n",
       "993 1990-11-16    1998-04-27\n",
       "994 1993-06-03    1993-06-13\n",
       "997 1990-01-04    1991-10-03\n",
       "\n",
       "[501 rows x 2 columns]"
      ]
     },
     "execution_count": 63,
     "metadata": {},
     "output_type": "execute_result"
    }
   ],
   "source": [
    "e = pd.read_csv('ecommerce.csv',index_col='ID',parse_dates=['order_date','delivery_date'])\n",
    "e"
   ]
  },
  {
   "cell_type": "code",
   "execution_count": 66,
   "id": "262827a9",
   "metadata": {},
   "outputs": [
    {
     "ename": "TypeError",
     "evalue": "'Timestamp' object does not support item assignment",
     "output_type": "error",
     "traceback": [
      "\u001b[1;31m---------------------------------------------------------------------------\u001b[0m",
      "\u001b[1;31mTypeError\u001b[0m                                 Traceback (most recent call last)",
      "\u001b[1;32m~\\AppData\\Local\\Temp/ipykernel_26604/2505611270.py\u001b[0m in \u001b[0;36m<module>\u001b[1;34m\u001b[0m\n\u001b[1;32m----> 1\u001b[1;33m \u001b[0ma\u001b[0m\u001b[1;33m[\u001b[0m\u001b[1;34m'Days'\u001b[0m\u001b[1;33m]\u001b[0m \u001b[1;33m=\u001b[0m\u001b[0me\u001b[0m\u001b[1;33m[\u001b[0m\u001b[1;34m'delivery_date'\u001b[0m\u001b[1;33m]\u001b[0m\u001b[1;33m-\u001b[0m\u001b[0me\u001b[0m\u001b[1;33m[\u001b[0m\u001b[1;34m'order_date'\u001b[0m\u001b[1;33m]\u001b[0m\u001b[1;33m\u001b[0m\u001b[1;33m\u001b[0m\u001b[0m\n\u001b[0m\u001b[0;32m      2\u001b[0m \u001b[0me\u001b[0m\u001b[1;33m\u001b[0m\u001b[1;33m\u001b[0m\u001b[0m\n",
      "\u001b[1;31mTypeError\u001b[0m: 'Timestamp' object does not support item assignment"
     ]
    }
   ],
   "source": [
    "a['Days'] =e['delivery_date']-e['order_date']\n",
    "e"
   ]
  },
  {
   "cell_type": "code",
   "execution_count": null,
   "id": "7889e69f",
   "metadata": {},
   "outputs": [],
   "source": []
  }
 ],
 "metadata": {
  "kernelspec": {
   "display_name": "Python 3 (ipykernel)",
   "language": "python",
   "name": "python3"
  },
  "language_info": {
   "codemirror_mode": {
    "name": "ipython",
    "version": 3
   },
   "file_extension": ".py",
   "mimetype": "text/x-python",
   "name": "python",
   "nbconvert_exporter": "python",
   "pygments_lexer": "ipython3",
   "version": "3.10.4"
  }
 },
 "nbformat": 4,
 "nbformat_minor": 5
}
