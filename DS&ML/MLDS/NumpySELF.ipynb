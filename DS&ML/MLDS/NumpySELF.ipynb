{
 "cells": [
  {
   "cell_type": "code",
   "execution_count": 1,
   "id": "279f91c8",
   "metadata": {},
   "outputs": [],
   "source": [
    "import numpy as np\n"
   ]
  },
  {
   "cell_type": "code",
   "execution_count": 2,
   "id": "91ca29eb",
   "metadata": {},
   "outputs": [
    {
     "data": {
      "text/plain": [
       "array([1, 2, 3, 4, 5])"
      ]
     },
     "execution_count": 2,
     "metadata": {},
     "output_type": "execute_result"
    }
   ],
   "source": [
    "lst =[1,2,3,4,5]\n",
    "a1 = np.array(lst)\n",
    "a1"
   ]
  },
  {
   "cell_type": "code",
   "execution_count": 4,
   "id": "31d0674a",
   "metadata": {},
   "outputs": [
    {
     "name": "stdout",
     "output_type": "stream",
     "text": [
      "6.63 ms ± 2.55 ms per loop (mean ± std. dev. of 7 runs, 100 loops each)\n"
     ]
    }
   ],
   "source": [
    "%timeit sum([i for i in range(100000)])"
   ]
  },
  {
   "cell_type": "code",
   "execution_count": 5,
   "id": "1607ccc0",
   "metadata": {},
   "outputs": [
    {
     "name": "stdout",
     "output_type": "stream",
     "text": [
      "10.3 ms ± 237 µs per loop (mean ± std. dev. of 7 runs, 100 loops each)\n"
     ]
    }
   ],
   "source": [
    "%timeit np.sum()"
   ]
  },
  {
   "cell_type": "code",
   "execution_count": 6,
   "id": "77947496",
   "metadata": {},
   "outputs": [
    {
     "data": {
      "text/plain": [
       "array([[0, 8, 2, 5],\n",
       "       [7, 6, 1, 8],\n",
       "       [6, 9, 9, 1],\n",
       "       [9, 5, 5, 3]])"
      ]
     },
     "execution_count": 6,
     "metadata": {},
     "output_type": "execute_result"
    }
   ],
   "source": [
    "a2 = np.random.randint(10, size=(4,4))\n",
    "a2"
   ]
  },
  {
   "cell_type": "code",
   "execution_count": 7,
   "id": "fcd02a3b",
   "metadata": {},
   "outputs": [
    {
     "data": {
      "text/plain": [
       "array([0, 6, 9, 3])"
      ]
     },
     "execution_count": 7,
     "metadata": {},
     "output_type": "execute_result"
    }
   ],
   "source": [
    "np.diag(a2)"
   ]
  },
  {
   "cell_type": "code",
   "execution_count": 13,
   "id": "8a4379c1",
   "metadata": {},
   "outputs": [
    {
     "data": {
      "text/plain": [
       "[1, 2, 3, 4, 5, 6, 7, 8, 9]"
      ]
     },
     "execution_count": 13,
     "metadata": {},
     "output_type": "execute_result"
    }
   ],
   "source": [
    "l1 = [1,2,3,4,5,6,7,8,9]\n",
    "l2 = l1[2:6]\n",
    "l2[2]=0\n",
    "l1"
   ]
  },
  {
   "cell_type": "code",
   "execution_count": 17,
   "id": "1d417bd3",
   "metadata": {},
   "outputs": [
    {
     "data": {
      "text/plain": [
       "array([1, 2, 0, 0, 0, 6, 7, 8, 9])"
      ]
     },
     "execution_count": 17,
     "metadata": {},
     "output_type": "execute_result"
    }
   ],
   "source": [
    "a3 = np.array([1,2,3,4,5,6,7,8,9])\n",
    "a33 = a3[2:5]\n",
    "a33[:]=0\n",
    "a3"
   ]
  },
  {
   "cell_type": "code",
   "execution_count": 18,
   "id": "c43746c2",
   "metadata": {},
   "outputs": [
    {
     "data": {
      "text/plain": [
       "array([1, 2, 3, 4, 5, 6, 7, 8, 9])"
      ]
     },
     "execution_count": 18,
     "metadata": {},
     "output_type": "execute_result"
    }
   ],
   "source": [
    "a13 = np.array([1,2,3,4,5,6,7,8,9])\n",
    "a133 = a13[2:5].copy()\n",
    "a133[:]=0\n",
    "a13"
   ]
  },
  {
   "cell_type": "code",
   "execution_count": 20,
   "id": "22180f47",
   "metadata": {},
   "outputs": [
    {
     "data": {
      "text/plain": [
       "array([9, 8, 7, 5, 6])"
      ]
     },
     "execution_count": 20,
     "metadata": {},
     "output_type": "execute_result"
    }
   ],
   "source": [
    "a12 = np.array([9,8,7,4,5,6,3,2,1])\n",
    "a12 > 4\n",
    "a12[a12>4]"
   ]
  },
  {
   "cell_type": "code",
   "execution_count": 22,
   "id": "689bc1c1",
   "metadata": {},
   "outputs": [
    {
     "name": "stdout",
     "output_type": "stream",
     "text": [
      "2\n"
     ]
    }
   ],
   "source": [
    "for i in a12:\n",
    "    if 2 == i:\n",
    "        print(i)\n",
    "        break"
   ]
  },
  {
   "cell_type": "code",
   "execution_count": 33,
   "id": "1ca8f3be",
   "metadata": {},
   "outputs": [
    {
     "data": {
      "text/plain": [
       "1"
      ]
     },
     "execution_count": 33,
     "metadata": {},
     "output_type": "execute_result"
    }
   ],
   "source": [
    "np.random.seed(0)\n",
    "ar = np.array([2,4,5,7,8])\n",
    "ar\n",
    "np.searchsorted(ar,3,side= 'right')"
   ]
  },
  {
   "cell_type": "code",
   "execution_count": null,
   "id": "4bbfb4e0",
   "metadata": {},
   "outputs": [],
   "source": []
  }
 ],
 "metadata": {
  "kernelspec": {
   "display_name": "Python 3 (ipykernel)",
   "language": "python",
   "name": "python3"
  },
  "language_info": {
   "codemirror_mode": {
    "name": "ipython",
    "version": 3
   },
   "file_extension": ".py",
   "mimetype": "text/x-python",
   "name": "python",
   "nbconvert_exporter": "python",
   "pygments_lexer": "ipython3",
   "version": "3.10.4"
  }
 },
 "nbformat": 4,
 "nbformat_minor": 5
}
