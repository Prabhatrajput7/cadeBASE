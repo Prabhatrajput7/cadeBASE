{
 "cells": [
  {
   "cell_type": "code",
   "execution_count": 1,
   "id": "8f6563d7",
   "metadata": {},
   "outputs": [],
   "source": [
    "import pandas as pd\n",
    "from pandas_datareader import data\n",
    "import seaborn as sns\n",
    "import matplotlib.pyplot as plt\n",
    "%matplotlib inline"
   ]
  },
  {
   "cell_type": "code",
   "execution_count": 2,
   "id": "5de612f1",
   "metadata": {},
   "outputs": [
    {
     "data": {
      "text/html": [
       "<div>\n",
       "<style scoped>\n",
       "    .dataframe tbody tr th:only-of-type {\n",
       "        vertical-align: middle;\n",
       "    }\n",
       "\n",
       "    .dataframe tbody tr th {\n",
       "        vertical-align: top;\n",
       "    }\n",
       "\n",
       "    .dataframe thead th {\n",
       "        text-align: right;\n",
       "    }\n",
       "</style>\n",
       "<table border=\"1\" class=\"dataframe\">\n",
       "  <thead>\n",
       "    <tr style=\"text-align: right;\">\n",
       "      <th></th>\n",
       "      <th>High</th>\n",
       "      <th>Low</th>\n",
       "      <th>Open</th>\n",
       "      <th>Close</th>\n",
       "      <th>Volume</th>\n",
       "      <th>Adj Close</th>\n",
       "    </tr>\n",
       "    <tr>\n",
       "      <th>Date</th>\n",
       "      <th></th>\n",
       "      <th></th>\n",
       "      <th></th>\n",
       "      <th></th>\n",
       "      <th></th>\n",
       "      <th></th>\n",
       "    </tr>\n",
       "  </thead>\n",
       "  <tbody>\n",
       "    <tr>\n",
       "      <th>2007-01-03</th>\n",
       "      <td>44.026669</td>\n",
       "      <td>41.703335</td>\n",
       "      <td>43.086666</td>\n",
       "      <td>42.849998</td>\n",
       "      <td>34739100.0</td>\n",
       "      <td>42.849998</td>\n",
       "    </tr>\n",
       "    <tr>\n",
       "      <th>2007-01-04</th>\n",
       "      <td>46.316666</td>\n",
       "      <td>42.423332</td>\n",
       "      <td>42.953335</td>\n",
       "      <td>46.189999</td>\n",
       "      <td>46007700.0</td>\n",
       "      <td>46.189999</td>\n",
       "    </tr>\n",
       "    <tr>\n",
       "      <th>2007-01-05</th>\n",
       "      <td>47.306667</td>\n",
       "      <td>45.166668</td>\n",
       "      <td>45.500000</td>\n",
       "      <td>47.099998</td>\n",
       "      <td>41453400.0</td>\n",
       "      <td>47.099998</td>\n",
       "    </tr>\n",
       "    <tr>\n",
       "      <th>2007-01-08</th>\n",
       "      <td>48.410000</td>\n",
       "      <td>46.606667</td>\n",
       "      <td>47.283333</td>\n",
       "      <td>47.386665</td>\n",
       "      <td>38547300.0</td>\n",
       "      <td>47.386665</td>\n",
       "    </tr>\n",
       "    <tr>\n",
       "      <th>2007-01-09</th>\n",
       "      <td>47.666668</td>\n",
       "      <td>43.263332</td>\n",
       "      <td>47.570000</td>\n",
       "      <td>43.666668</td>\n",
       "      <td>74142000.0</td>\n",
       "      <td>43.666668</td>\n",
       "    </tr>\n",
       "    <tr>\n",
       "      <th>...</th>\n",
       "      <td>...</td>\n",
       "      <td>...</td>\n",
       "      <td>...</td>\n",
       "      <td>...</td>\n",
       "      <td>...</td>\n",
       "      <td>...</td>\n",
       "    </tr>\n",
       "    <tr>\n",
       "      <th>2020-12-24</th>\n",
       "      <td>7.240000</td>\n",
       "      <td>7.050000</td>\n",
       "      <td>7.120000</td>\n",
       "      <td>7.060000</td>\n",
       "      <td>6088300.0</td>\n",
       "      <td>7.060000</td>\n",
       "    </tr>\n",
       "    <tr>\n",
       "      <th>2020-12-28</th>\n",
       "      <td>7.130000</td>\n",
       "      <td>6.850000</td>\n",
       "      <td>7.100000</td>\n",
       "      <td>6.880000</td>\n",
       "      <td>9820100.0</td>\n",
       "      <td>6.880000</td>\n",
       "    </tr>\n",
       "    <tr>\n",
       "      <th>2020-12-29</th>\n",
       "      <td>7.000000</td>\n",
       "      <td>6.680000</td>\n",
       "      <td>6.980000</td>\n",
       "      <td>6.770000</td>\n",
       "      <td>11284200.0</td>\n",
       "      <td>6.770000</td>\n",
       "    </tr>\n",
       "    <tr>\n",
       "      <th>2020-12-30</th>\n",
       "      <td>6.810000</td>\n",
       "      <td>6.600000</td>\n",
       "      <td>6.790000</td>\n",
       "      <td>6.670000</td>\n",
       "      <td>9434900.0</td>\n",
       "      <td>6.670000</td>\n",
       "    </tr>\n",
       "    <tr>\n",
       "      <th>2020-12-31</th>\n",
       "      <td>6.800000</td>\n",
       "      <td>6.630000</td>\n",
       "      <td>6.680000</td>\n",
       "      <td>6.630000</td>\n",
       "      <td>7530600.0</td>\n",
       "      <td>6.630000</td>\n",
       "    </tr>\n",
       "  </tbody>\n",
       "</table>\n",
       "<p>3525 rows × 6 columns</p>\n",
       "</div>"
      ],
      "text/plain": [
       "                 High        Low       Open      Close      Volume  Adj Close\n",
       "Date                                                                         \n",
       "2007-01-03  44.026669  41.703335  43.086666  42.849998  34739100.0  42.849998\n",
       "2007-01-04  46.316666  42.423332  42.953335  46.189999  46007700.0  46.189999\n",
       "2007-01-05  47.306667  45.166668  45.500000  47.099998  41453400.0  47.099998\n",
       "2007-01-08  48.410000  46.606667  47.283333  47.386665  38547300.0  47.386665\n",
       "2007-01-09  47.666668  43.263332  47.570000  43.666668  74142000.0  43.666668\n",
       "...               ...        ...        ...        ...         ...        ...\n",
       "2020-12-24   7.240000   7.050000   7.120000   7.060000   6088300.0   7.060000\n",
       "2020-12-28   7.130000   6.850000   7.100000   6.880000   9820100.0   6.880000\n",
       "2020-12-29   7.000000   6.680000   6.980000   6.770000  11284200.0   6.770000\n",
       "2020-12-30   6.810000   6.600000   6.790000   6.670000   9434900.0   6.670000\n",
       "2020-12-31   6.800000   6.630000   6.680000   6.630000   7530600.0   6.630000\n",
       "\n",
       "[3525 rows x 6 columns]"
      ]
     },
     "execution_count": 2,
     "metadata": {},
     "output_type": "execute_result"
    }
   ],
   "source": [
    "daat = data.DataReader(name= 'BB',data_source='yahoo',start='2007-01-01',end='2020-12-31')\n",
    "daat"
   ]
  },
  {
   "cell_type": "code",
   "execution_count": 17,
   "id": "6c6c85d5",
   "metadata": {},
   "outputs": [
    {
     "data": {
      "text/plain": [
       "<AxesSubplot:xlabel='High', ylabel='Low'>"
      ]
     },
     "execution_count": 17,
     "metadata": {},
     "output_type": "execute_result"
    },
    {
     "data": {
      "image/png": "[encoded data removed]",
      "text/plain": [
       "<Figure size 600x600 with 1 Axes>"
      ]
     },
     "metadata": {
      "needs_background": "light"
     },
     "output_type": "display_data"
    }
   ],
   "source": [
    "fig = plt.figure(figsize=(6,6),dpi=100)\n",
    "# sns.scatterplot(data=daat)\n",
    "# sns.scatterplot(x='High',y='Low',data=daat,hue='High',size='High',palette='Dark2')\n",
    "# sns.scatterplot(x='High',y='Low',data=daat,hue='High',size='High',style='High')\n",
    "sns.scatterplot(x='High',y='Low',data=daat,hue='High',size='High')\n",
    "# s = 200 all dot\n",
    "# size = 'High means low to high value change style'"
   ]
  },
  {
   "cell_type": "code",
   "execution_count": 22,
   "id": "6a7a50d2",
   "metadata": {
    "scrolled": true
   },
   "outputs": [
    {
     "data": {
      "text/plain": [
       "<seaborn.axisgrid.FacetGrid at 0x19ed28dbe50>"
      ]
     },
     "execution_count": 22,
     "metadata": {},
     "output_type": "execute_result"
    },
    {
     "data": {
      "image/png": "[encoded data removed]",
      "text/plain": [
       "<Figure size 360x360 with 1 Axes>"
      ]
     },
     "metadata": {
      "needs_background": "light"
     },
     "output_type": "display_data"
    }
   ],
   "source": [
    "sns.displot(data=daat,x='High',bins=15)"
   ]
  },
  {
   "cell_type": "code",
   "execution_count": 23,
   "id": "b55f6c92",
   "metadata": {},
   "outputs": [
    {
     "data": {
      "text/plain": [
       "148.1300048828125"
      ]
     },
     "execution_count": 23,
     "metadata": {},
     "output_type": "execute_result"
    }
   ],
   "source": [
    "max(daat['High'])"
   ]
  },
  {
   "cell_type": "code",
   "execution_count": 24,
   "id": "b14a16a4",
   "metadata": {},
   "outputs": [],
   "source": [
    "import pandas as pd\n",
    "from pandas_datareader import data\n",
    "import seaborn as sns\n",
    "import matplotlib.pyplot as plt\n",
    "%matplotlib inline"
   ]
  },
  {
   "cell_type": "code",
   "execution_count": 25,
   "id": "2f765e36",
   "metadata": {},
   "outputs": [
    {
     "data": {
      "text/html": [
       "<div>\n",
       "<style scoped>\n",
       "    .dataframe tbody tr th:only-of-type {\n",
       "        vertical-align: middle;\n",
       "    }\n",
       "\n",
       "    .dataframe tbody tr th {\n",
       "        vertical-align: top;\n",
       "    }\n",
       "\n",
       "    .dataframe thead th {\n",
       "        text-align: right;\n",
       "    }\n",
       "</style>\n",
       "<table border=\"1\" class=\"dataframe\">\n",
       "  <thead>\n",
       "    <tr style=\"text-align: right;\">\n",
       "      <th></th>\n",
       "      <th>total_bill</th>\n",
       "      <th>tip</th>\n",
       "      <th>sex</th>\n",
       "      <th>smoker</th>\n",
       "      <th>day</th>\n",
       "      <th>time</th>\n",
       "      <th>size</th>\n",
       "    </tr>\n",
       "  </thead>\n",
       "  <tbody>\n",
       "    <tr>\n",
       "      <th>0</th>\n",
       "      <td>16.99</td>\n",
       "      <td>1.01</td>\n",
       "      <td>Female</td>\n",
       "      <td>No</td>\n",
       "      <td>Sun</td>\n",
       "      <td>Dinner</td>\n",
       "      <td>2</td>\n",
       "    </tr>\n",
       "    <tr>\n",
       "      <th>1</th>\n",
       "      <td>10.34</td>\n",
       "      <td>1.66</td>\n",
       "      <td>Male</td>\n",
       "      <td>No</td>\n",
       "      <td>Sun</td>\n",
       "      <td>Dinner</td>\n",
       "      <td>3</td>\n",
       "    </tr>\n",
       "    <tr>\n",
       "      <th>2</th>\n",
       "      <td>21.01</td>\n",
       "      <td>3.50</td>\n",
       "      <td>Male</td>\n",
       "      <td>No</td>\n",
       "      <td>Sun</td>\n",
       "      <td>Dinner</td>\n",
       "      <td>3</td>\n",
       "    </tr>\n",
       "    <tr>\n",
       "      <th>3</th>\n",
       "      <td>23.68</td>\n",
       "      <td>3.31</td>\n",
       "      <td>Male</td>\n",
       "      <td>No</td>\n",
       "      <td>Sun</td>\n",
       "      <td>Dinner</td>\n",
       "      <td>2</td>\n",
       "    </tr>\n",
       "    <tr>\n",
       "      <th>4</th>\n",
       "      <td>24.59</td>\n",
       "      <td>3.61</td>\n",
       "      <td>Female</td>\n",
       "      <td>No</td>\n",
       "      <td>Sun</td>\n",
       "      <td>Dinner</td>\n",
       "      <td>4</td>\n",
       "    </tr>\n",
       "    <tr>\n",
       "      <th>...</th>\n",
       "      <td>...</td>\n",
       "      <td>...</td>\n",
       "      <td>...</td>\n",
       "      <td>...</td>\n",
       "      <td>...</td>\n",
       "      <td>...</td>\n",
       "      <td>...</td>\n",
       "    </tr>\n",
       "    <tr>\n",
       "      <th>239</th>\n",
       "      <td>29.03</td>\n",
       "      <td>5.92</td>\n",
       "      <td>Male</td>\n",
       "      <td>No</td>\n",
       "      <td>Sat</td>\n",
       "      <td>Dinner</td>\n",
       "      <td>3</td>\n",
       "    </tr>\n",
       "    <tr>\n",
       "      <th>240</th>\n",
       "      <td>27.18</td>\n",
       "      <td>2.00</td>\n",
       "      <td>Female</td>\n",
       "      <td>Yes</td>\n",
       "      <td>Sat</td>\n",
       "      <td>Dinner</td>\n",
       "      <td>2</td>\n",
       "    </tr>\n",
       "    <tr>\n",
       "      <th>241</th>\n",
       "      <td>22.67</td>\n",
       "      <td>2.00</td>\n",
       "      <td>Male</td>\n",
       "      <td>Yes</td>\n",
       "      <td>Sat</td>\n",
       "      <td>Dinner</td>\n",
       "      <td>2</td>\n",
       "    </tr>\n",
       "    <tr>\n",
       "      <th>242</th>\n",
       "      <td>17.82</td>\n",
       "      <td>1.75</td>\n",
       "      <td>Male</td>\n",
       "      <td>No</td>\n",
       "      <td>Sat</td>\n",
       "      <td>Dinner</td>\n",
       "      <td>2</td>\n",
       "    </tr>\n",
       "    <tr>\n",
       "      <th>243</th>\n",
       "      <td>18.78</td>\n",
       "      <td>3.00</td>\n",
       "      <td>Female</td>\n",
       "      <td>No</td>\n",
       "      <td>Thur</td>\n",
       "      <td>Dinner</td>\n",
       "      <td>2</td>\n",
       "    </tr>\n",
       "  </tbody>\n",
       "</table>\n",
       "<p>244 rows × 7 columns</p>\n",
       "</div>"
      ],
      "text/plain": [
       "     total_bill   tip     sex smoker   day    time  size\n",
       "0         16.99  1.01  Female     No   Sun  Dinner     2\n",
       "1         10.34  1.66    Male     No   Sun  Dinner     3\n",
       "2         21.01  3.50    Male     No   Sun  Dinner     3\n",
       "3         23.68  3.31    Male     No   Sun  Dinner     2\n",
       "4         24.59  3.61  Female     No   Sun  Dinner     4\n",
       "..          ...   ...     ...    ...   ...     ...   ...\n",
       "239       29.03  5.92    Male     No   Sat  Dinner     3\n",
       "240       27.18  2.00  Female    Yes   Sat  Dinner     2\n",
       "241       22.67  2.00    Male    Yes   Sat  Dinner     2\n",
       "242       17.82  1.75    Male     No   Sat  Dinner     2\n",
       "243       18.78  3.00  Female     No  Thur  Dinner     2\n",
       "\n",
       "[244 rows x 7 columns]"
      ]
     },
     "execution_count": 25,
     "metadata": {},
     "output_type": "execute_result"
    }
   ],
   "source": [
    "tip = sns.load_dataset('tips')\n",
    "tip"
   ]
  },
  {
   "cell_type": "code",
   "execution_count": 56,
   "id": "2a635806",
   "metadata": {},
   "outputs": [
    {
     "data": {
      "text/plain": [
       "<AxesSubplot:xlabel='sex', ylabel='tip'>"
      ]
     },
     "execution_count": 56,
     "metadata": {},
     "output_type": "execute_result"
    },
    {
     "data": {
      "image/png": "[encoded data removed]",
      "text/plain": [
       "<Figure size 800x800 with 1 Axes>"
      ]
     },
     "metadata": {
      "needs_background": "light"
     },
     "output_type": "display_data"
    }
   ],
   "source": [
    "fig = plt.figure(figsize= (8,8),dpi=100)\n",
    "sns.barplot(x= 'sex',y='tip',data=tip)"
   ]
  },
  {
   "cell_type": "code",
   "execution_count": 47,
   "id": "9991ec28",
   "metadata": {},
   "outputs": [
    {
     "data": {
      "text/plain": [
       "485.07"
      ]
     },
     "execution_count": 47,
     "metadata": {},
     "output_type": "execute_result"
    }
   ],
   "source": [
    "male = tip[tip['sex']=='Male']\n",
    "male['tip'].sum()"
   ]
  },
  {
   "cell_type": "code",
   "execution_count": 54,
   "id": "5ca2f6b6",
   "metadata": {},
   "outputs": [
    {
     "data": {
      "text/plain": [
       "157"
      ]
     },
     "execution_count": 54,
     "metadata": {},
     "output_type": "execute_result"
    }
   ],
   "source": [
    "len(tip[tip['sex'] == 'Male'])"
   ]
  },
  {
   "cell_type": "code",
   "execution_count": 57,
   "id": "66ac415f",
   "metadata": {},
   "outputs": [
    {
     "data": {
      "text/plain": [
       "3.0896178343949043"
      ]
     },
     "execution_count": 57,
     "metadata": {},
     "output_type": "execute_result"
    }
   ],
   "source": [
    "485.07/157"
   ]
  },
  {
   "cell_type": "code",
   "execution_count": null,
   "id": "8d08d2bd",
   "metadata": {},
   "outputs": [],
   "source": []
  }
 ],
 "metadata": {
  "kernelspec": {
   "display_name": "Python 3 (ipykernel)",
   "language": "python",
   "name": "python3"
  },
  "language_info": {
   "codemirror_mode": {
    "name": "ipython",
    "version": 3
   },
   "file_extension": ".py",
   "mimetype": "text/x-python",
   "name": "python",
   "nbconvert_exporter": "python",
   "pygments_lexer": "ipython3",
   "version": "3.10.4"
  }
 },
 "nbformat": 4,
 "nbformat_minor": 5
}
